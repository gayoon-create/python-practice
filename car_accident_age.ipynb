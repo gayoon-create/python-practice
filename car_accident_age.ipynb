{
 "cells": [
  {
   "cell_type": "code",
   "execution_count": 42,
   "metadata": {},
   "outputs": [
    {
     "name": "stdout",
     "output_type": "stream",
     "text": [
      "총 사고 건수: 39614\n"
     ]
    }
   ],
   "source": [
    "import csv\n",
    "\n",
    "# CSV 파일 열기\n",
    "with open('data/accident_age1.csv', encoding='utf-8') as file:\n",
    "    data = csv.reader(file)\n",
    "    next(data)  # 헤더 건너뛰기\n",
    "\n",
    "    # 총사고건수를 저장할 변수 초기화\n",
    "    total_accidents = 0\n",
    "\n",
    "    # 각 행에서 '20세이하'와 관련된 데이터 처리\n",
    "    for row in data:\n",
    "        if row[0] == '65세이상':\n",
    "            try:\n",
    "                # 문자열을 정수로 변환하고 합산\n",
    "                total_accidents += int(row[1])\n",
    "            except ValueError:\n",
    "                # 변환 오류가 발생할 경우, 예외 처리\n",
    "                print(f\"경고: '{row[1]}'는 정수로 변환할 수 없습니다.\")\n",
    "\n",
    "    print(\"총 사고 건수:\", total_accidents)"
   ]
  },
  {
   "cell_type": "code",
   "execution_count": 45,
   "metadata": {},
   "outputs": [
    {
     "name": "stdout",
     "output_type": "stream",
     "text": [
      "[ 285  315  415  484  579  580  534  552  547  557  403  340 1904 1716\n",
      " 2078 2128 2175 2133 2097 2216 2254 2056 2129 2089 2225 1807 2168 2243\n",
      " 2386 2264 2377 2351 2414 2356 2529 2549 2545 2268 2777 2742 2960 2759\n",
      " 2793 2964 2931 2823 2844 3022 3326 3020 3637 3637 3919 3717 3647 3732\n",
      " 4022 3796 4057 3812 1482 1366 1584 1672 1760 1681 1678 1686 1742 1792\n",
      " 1812 1791 2525 2582 3110 3220 3524 3379 3252 3521 3714 3715 3733 3339]\n"
     ]
    }
   ],
   "source": [
    "import csv\n",
    "import numpy as np\n",
    "\n",
    "# CSV 파일 열기\n",
    "with open('data/accident_age1.csv', 'r', encoding='utf-8') as file:\n",
    "    data = list(csv.reader(file))\n",
    "\n",
    "# 헤더와 데이터를 분리\n",
    "headers = data[0]\n",
    "rows = data[1:]\n",
    "\n",
    "# '사고건수' 열의 인덱스 찾기\n",
    "accident_count_index = headers.index('사고건수')\n",
    "\n",
    "# '사고건수' 열을 NumPy 배열로 변환하고 정수형으로 변환\n",
    "accident_counts = np.array([int(row[accident_count_index]) for row in rows], dtype=int)\n",
    "\n",
    "print(accident_counts)"
   ]
  },
  {
   "cell_type": "code",
   "execution_count": 58,
   "metadata": {},
   "outputs": [
    {
     "name": "stdout",
     "output_type": "stream",
     "text": [
      "총 사고 건수: 5591\n"
     ]
    }
   ],
   "source": [
    "import csv\n",
    "import numpy as np\n",
    "\n",
    "# CSV 파일 열기\n",
    "with open('data/accident_age1.csv', 'r', encoding='utf-8') as file:\n",
    "    data = list(csv.reader(file))\n",
    "\n",
    "# 헤더와 데이터를 분리\n",
    "headers = data[0]\n",
    "rows = data[1:13]\n",
    "\n",
    "# '사고건수' 열의 인덱스 찾기\n",
    "totalAccident = headers.index('사고건수')\n",
    "\n",
    "# '사고건수' 열을 NumPy 배열로 변환하고 정수형으로 변환\n",
    "totalAccident = np.array([int(row[totalAccident]) for row in rows], dtype=int)\n",
    "\n",
    "# 사고 건수의 총합 계산\n",
    "totalAccident = np.sum(totalAccident)\n",
    "\n",
    "print(\"총 사고 건수:\", totalAccident)"
   ]
  },
  {
   "cell_type": "code",
   "execution_count": 60,
   "metadata": {},
   "outputs": [
    {
     "name": "stdout",
     "output_type": "stream",
     "text": [
      "총 사고 건수: 60\n"
     ]
    }
   ],
   "source": [
    "import csv\n",
    "import numpy as np\n",
    "\n",
    "# CSV 파일 열기\n",
    "with open('data/accident_age1.csv', 'r', encoding='utf-8') as file:\n",
    "    data = list(csv.reader(file))\n",
    "\n",
    "# 헤더와 데이터를 분리\n",
    "headers = data[0]\n",
    "rows = data[1:13]\n",
    "\n",
    "# '사고건수' 열의 인덱스 찾기\n",
    "death = headers.index('사망자수')\n",
    "\n",
    "# '사고건수' 열을 NumPy 배열로 변환하고 정수형으로 변환\n",
    "death = np.array([int(row[death]) for row in rows], dtype=int)\n",
    "\n",
    "# 사고 건수의 총합 계산\n",
    "death = np.sum(death)\n",
    "\n",
    "print(\"총 사고 건수:\", death)"
   ]
  }
 ],
 "metadata": {
  "kernelspec": {
   "display_name": "Python 3",
   "language": "python",
   "name": "python3"
  },
  "language_info": {
   "codemirror_mode": {
    "name": "ipython",
    "version": 3
   },
   "file_extension": ".py",
   "mimetype": "text/x-python",
   "name": "python",
   "nbconvert_exporter": "python",
   "pygments_lexer": "ipython3",
   "version": "3.12.4"
  }
 },
 "nbformat": 4,
 "nbformat_minor": 2
}
