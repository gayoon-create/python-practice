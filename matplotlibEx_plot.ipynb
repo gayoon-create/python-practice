{
 "cells": [
  {
   "cell_type": "markdown",
   "metadata": {},
   "source": [
    " 데이터 시각화 : 데이터를 분석한 후 사용자에게 원하는 정보를 출력할 때 차트나 이미지 형태로 간략화하여 출력할 필요가 있는데\n",
    "                -> 이를 데이터 시각화(Data Visualization) 라고 한다.\n",
    "\n",
    "데이터 시각화를 할 때 가장 많이 사용되는 도구로 Matplotlib, Seaborn, Plotly, D3.js 등이 있다.\n",
    "\n",
    "연속 데이터 세트가있는 경우 선 차트를 사용합니다. 이는 데이터 포인트 수가 매우 많을 때 (20 개 이상) 일정 기간 동안의 추세 기반 데이터 시각화에 가장 적합합니다."
   ]
  },
  {
   "cell_type": "code",
   "execution_count": null,
   "metadata": {},
   "outputs": [],
   "source": [
    "import matplotlib.pyplot as plt\n",
    "\n",
    "plt.plot([10, 20, 30, 40, 50, 70]) # 선 그래프를 그릴 데이터 제공 (x좌표 : list의 index값, y좌표 : list의 value값)\n",
    "plt.show() # 그래프 출력"
   ]
  },
  {
   "cell_type": "code",
   "execution_count": null,
   "metadata": {},
   "outputs": [],
   "source": [
    "import matplotlib.pyplot as plt\n",
    "\n",
    "plt.plot([1, 2, 3, 4], [10, 100, 1000, 1]) # plot(x좌표값, y좌표값)\n",
    "plt.show"
   ]
  },
  {
   "cell_type": "code",
   "execution_count": null,
   "metadata": {},
   "outputs": [],
   "source": [
    "import matplotlib.pyplot as plt\n",
    "\n",
    "plt.title('matplotlib [plot example]')\n",
    "plt.plot([1, 2, 3, 4], [10, 100, 1000, 1]) # plot(x좌표값, y좌표값)\n",
    "plt.show"
   ]
  },
  {
   "cell_type": "code",
   "execution_count": null,
   "metadata": {},
   "outputs": [],
   "source": [
    "import matplotlib.pyplot as plt\n",
    "\n",
    "plt.rcParams['font.family'] ='D2Coding' # 폰트 설정(한글을 사용하려면 반드시 폰트를 지정해줘야 한다.)\n",
    "plt.title('matplotlib [plot 예제]')\n",
    "plt.plot([1, 2, 3, 4], [10, 100, 1000, 1]) # plot(x좌표값, y좌표값)\n",
    "plt.show"
   ]
  },
  {
   "cell_type": "code",
   "execution_count": null,
   "metadata": {},
   "outputs": [],
   "source": [
    "import matplotlib.pyplot as plt\n",
    "\n",
    "plt.rcParams['font.family'] ='D2Coding' # 폰트 설정(한글을 사용하려면 반드시 폰트를 지정해줘야 한다.)\n",
    "plt.title('차트 색상, 라벨 표시')\n",
    "plt.plot([10, 20, 30, 40], color='red', label='빨간색')\n",
    "plt.plot([40, 30, 20, 10], color='blue', label='파란색') \n",
    "plt.legend()\n",
    "plt.show()\n"
   ]
  },
  {
   "cell_type": "code",
   "execution_count": null,
   "metadata": {},
   "outputs": [],
   "source": [
    "import matplotlib.pyplot as plt\n",
    "\n",
    "plt.rcParams['font.family'] ='D2Coding' # 폰트 설정(한글을 사용하려면 반드시 폰트를 지정해줘야 한다.)\n",
    "plt.title('차트의 선 스타일 바꾸기')\n",
    "plt.plot([10, 20, 30, 40], color='red', linestyle='dotted', label='빨간색')\n",
    "plt.plot([40, 30, 20, 10], color='blue', label='파란색') \n",
    "plt.legend()\n",
    "plt.show()"
   ]
  },
  {
   "cell_type": "code",
   "execution_count": null,
   "metadata": {},
   "outputs": [],
   "source": [
    "import matplotlib.pyplot as plt\n",
    "\n",
    "plt.rcParams['font.family'] ='D2Coding' # 폰트 설정(한글을 사용하려면 반드시 폰트를 지정해줘야 한다.)\n",
    "plt.title('차트의 마커 바꾸기')\n",
    "plt.plot([10, 20, 30, 40], 'rv', label='빨간색')\n",
    "plt.plot([40, 30, 20, 10], 'b.', label='파란색') \n",
    "plt.legend()\n",
    "plt.show()"
   ]
  }
 ],
 "metadata": {
  "kernelspec": {
   "display_name": "Python 3",
   "language": "python",
   "name": "python3"
  },
  "language_info": {
   "codemirror_mode": {
    "name": "ipython",
    "version": 3
   },
   "file_extension": ".py",
   "mimetype": "text/x-python",
   "name": "python",
   "nbconvert_exporter": "python",
   "pygments_lexer": "ipython3",
   "version": "3.12.4"
  }
 },
 "nbformat": 4,
 "nbformat_minor": 2
}
