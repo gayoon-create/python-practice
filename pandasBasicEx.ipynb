{
 "cells": [
  {
   "cell_type": "markdown",
   "metadata": {},
   "source": [
    "지금까지는 파이썬의 기초 문법을 가지고 데이터를 다루고 분석하는 방법을 써왔다.\n",
    "하지만, 라이브러리를 사용하면 더욱 빠르고 편리하고 다양하게 데이터를 분석할 수 있다.\n",
    "\n",
    "파이썬 데이터 분석에 활용되는 라이브러리의 대표적인 것에 pandas 라이브러리가 있다.\n",
    "\n",
    "pandas에서 데이터를 다루는 기초적인 방법에 대하여 알아보자.\n",
    "\n",
    "pandas에서 데이터를 테이블 형태(엑셀에 표로 표현한 것처럼)로 표현하는 것을 DataFrame이라고 한다."
   ]
  },
  {
   "cell_type": "code",
   "execution_count": null,
   "metadata": {},
   "outputs": [],
   "source": [
    "import pandas as pd\n",
    "\n",
    "# DataFrame() 함수로 pandas DataFrame 생성\n",
    "\n",
    "df = pd.DataFrame({'name' : ['둘리', '도우너', '또치', '고길동'], 'english' : [90, 80, 60, 70], 'math' : [50, 60, 100, 20]})\n",
    "\n",
    "print(df)"
   ]
  },
  {
   "cell_type": "markdown",
   "metadata": {},
   "source": [
    "특정 변수의 값을 추출해보자."
   ]
  },
  {
   "cell_type": "code",
   "execution_count": null,
   "metadata": {},
   "outputs": [],
   "source": [
    "print(df['name'])\n",
    "print(df['math'])\n",
    "print(df['english'])"
   ]
  },
  {
   "cell_type": "code",
   "execution_count": null,
   "metadata": {},
   "outputs": [],
   "source": [
    "# sum 함수를 이용하여 과목별 평균 구하기\n",
    "print(sum(df['english']) /4)\n",
    "print(sum(df['math']) /4)"
   ]
  },
  {
   "cell_type": "markdown",
   "metadata": {},
   "source": [
    "문제. 엑셀 표의 데이터를 데이터 프레임으로 만들고, dfFruit 변수에 저장하세요. 만들어진 데이터 프레임을 이용해 과일의 가격 평균과 판매량 평균을 구하세요."
   ]
  },
  {
   "cell_type": "code",
   "execution_count": 8,
   "metadata": {},
   "outputs": [
    {
     "name": "stdout",
     "output_type": "stream",
     "text": [
      "   제품    가격  판매량\n",
      "0  사과  1800   24\n",
      "1  딸기  1500   38\n",
      "2  수박  3000   13\n",
      "2100.0\n",
      "25.0\n"
     ]
    }
   ],
   "source": [
    "import pandas as pd\n",
    "\n",
    "dfFruit = pd.DataFrame({\n",
    "    '제품' : ['사과', '딸기', '수박'], \n",
    "    '가격' : [1800, 1500, 3000],\n",
    "    '판매량' : [24, 38, 13]\n",
    "    })\n",
    "\n",
    "print(dfFruit)\n",
    "\n",
    "print(sum(dfFruit['가격']) /3)\n",
    "print(sum(dfFruit['판매량']) /3)\n"
   ]
  },
  {
   "cell_type": "markdown",
   "metadata": {},
   "source": [
    "/data/excel_exam.xlsx 파일을 읽어와 데이터 프레임으로 만들어 여러가지 데이터 분석을 해보자"
   ]
  },
  {
   "cell_type": "code",
   "execution_count": 10,
   "metadata": {},
   "outputs": [
    {
     "name": "stderr",
     "output_type": "stream",
     "text": [
      "<>:1: SyntaxWarning: invalid escape sequence '\\l'\n",
      "<>:1: SyntaxWarning: invalid escape sequence '\\l'\n",
      "C:\\Users\\802-02\\AppData\\Local\\Temp\\ipykernel_8448\\1899357897.py:1: SyntaxWarning: invalid escape sequence '\\l'\n",
      "  df_exam = pd.read_excel('D:\\lecture\\python\\data\\excel_exam.xlsx')\n"
     ]
    },
    {
     "name": "stdout",
     "output_type": "stream",
     "text": [
      "    id  nclass  math  english  science\n",
      "0    1       1    50       98       50\n",
      "1    2       1    60       97       60\n",
      "2    3       1    45       86       78\n",
      "3    4       1    30       98       58\n",
      "4    5       2    25       80       65\n",
      "5    6       2    50       89       98\n",
      "6    7       2    80       90       45\n",
      "7    8       2    90       78       25\n",
      "8    9       3    20       98       15\n",
      "9   10       3    50       98       45\n",
      "10  11       3    65       65       65\n",
      "11  12       3    45       85       32\n",
      "12  13       4    46       98       65\n",
      "13  14       4    48       87       12\n",
      "14  15       4    75       56       78\n",
      "15  16       4    58       98       65\n",
      "16  17       5    65       68       98\n",
      "17  18       5    80       78       90\n",
      "18  19       5    89       68       87\n",
      "19  20       5    78       83       58\n"
     ]
    }
   ],
   "source": [
    "df_exam = pd.read_excel('D:\\lecture\\python\\data\\excel_exam.xlsx') # 엑셀 파일을 읽어서 DataFrame 객체로 만들어줌\n",
    "print(df_exam)"
   ]
  },
  {
   "cell_type": "code",
   "execution_count": 12,
   "metadata": {},
   "outputs": [
    {
     "name": "stdout",
     "output_type": "stream",
     "text": [
      "57.45\n",
      "84.9\n",
      "59.45\n"
     ]
    }
   ],
   "source": [
    "# 읽어온 데이터에 대한 과목별 평균을 다시 구해보자.\n",
    "\n",
    "print(sum(df_exam['math']) / len(df_exam['math'])) # len(df_exam['math'])) : math 시험을 본 사람의 수\n",
    "print(sum(df_exam['english']) / len(df_exam['english'])) \n",
    "print(sum(df_exam['science']) / len(df_exam['science'])) "
   ]
  },
  {
   "cell_type": "markdown",
   "metadata": {},
   "source": [
    "1) 엑셀 데이터를 읽어 DataFrame을 만들 때 header 정보가 없다면..\n",
    "   read_excel(파일명, header=None)\n",
    "\n",
    "2) 엑셀 데이터를 읽어 DataFrame을 만들 때 엑셀 파일에 여러개의 시트가 있을 때...\n",
    "   read_excel(파일명, sheet_name='sheetName')\n",
    "   read_excel(파일명, sheet_name=0부터 시작하는 인덱스)"
   ]
  },
  {
   "cell_type": "code",
   "execution_count": 14,
   "metadata": {},
   "outputs": [
    {
     "name": "stdout",
     "output_type": "stream",
     "text": [
      "   0  1   2   3   4\n",
      "0  1  1  50  98  50\n",
      "1  2  1  60  97  60\n",
      "2  3  2  25  80  65\n",
      "3  4  2  50  89  98\n",
      "4  5  3  20  98  15\n",
      "5  6  3  50  98  45\n",
      "6  7  4  46  98  65\n",
      "7  8  4  48  87  12\n"
     ]
    },
    {
     "name": "stderr",
     "output_type": "stream",
     "text": [
      "<>:1: SyntaxWarning: invalid escape sequence '\\l'\n",
      "<>:1: SyntaxWarning: invalid escape sequence '\\l'\n",
      "C:\\Users\\802-02\\AppData\\Local\\Temp\\ipykernel_8448\\3280574080.py:1: SyntaxWarning: invalid escape sequence '\\l'\n",
      "  df_exam_novar = pd.read_excel('D:\\lecture\\python\\data\\excel_exam_novar.xlsx', header=None)\n"
     ]
    }
   ],
   "source": [
    "# 1) 엑셀 데이터를 읽어 DataFrame을 만들 때 header 정보가 없다면..\n",
    "df_exam_novar = pd.read_excel('D:\\lecture\\python\\data\\excel_exam_novar.xlsx', header=None) # header가 없을 때는 없다고 알려줘야 첫 행을 컬럼처럼 표현하지 않는다.\n",
    "print(df_exam_novar)"
   ]
  },
  {
   "cell_type": "code",
   "execution_count": 20,
   "metadata": {},
   "outputs": [
    {
     "name": "stdout",
     "output_type": "stream",
     "text": [
      "         사용월  호선명   역ID      지하철역      승차승객수      하차승객수                 작업일시\n",
      "0    2024-07  1호선   150       서울역  1,657,883  1,564,476  2024-08-03 09:51:41\n",
      "1    2024-07  1호선   151        시청    742,284    746,353  2024-08-03 09:51:41\n",
      "2    2024-07  1호선   152        종각  1,145,348  1,130,282  2024-08-03 09:51:41\n",
      "3    2024-07  1호선   153      종로3가    755,197    697,902  2024-08-03 09:51:41\n",
      "4    2024-07  1호선   154      종로5가    699,688    684,549  2024-08-03 09:51:41\n",
      "..       ...  ...   ...       ...        ...        ...                  ...\n",
      "616  2024-07  신림선  4407        당곡    149,145    145,635  2024-08-03 09:51:41\n",
      "617  2024-07  신림선  4408        신림     60,184     78,904  2024-08-03 09:51:41\n",
      "618  2024-07  신림선  4409        서원    107,834     95,900  2024-08-03 09:51:41\n",
      "619  2024-07  신림선  4410   서울대벤처타운    289,061    266,632  2024-08-03 09:51:41\n",
      "620  2024-07  신림선  4411  관악산(서울대)     97,130     96,765  2024-08-03 09:51:41\n",
      "\n",
      "[621 rows x 7 columns]\n"
     ]
    }
   ],
   "source": [
    "# 2) 엑셀 데이터를 읽어 DataFrame을 만들 때 엑셀 파일에 여러개의 시트가 있을 때...\n",
    "print(pd.read_excel('D:\\\\lecture\\\\python\\\\data\\\\trafficData.xls', sheet_name=1))\n"
   ]
  },
  {
   "cell_type": "code",
   "execution_count": 23,
   "metadata": {},
   "outputs": [
    {
     "name": "stdout",
     "output_type": "stream",
     "text": [
      "     \\t2023-01-01  108  -0.2  -4.3  3.8\n",
      "0    \\t2023-01-02  108  -4.5  -7.4 -0.4\n",
      "1    \\t2023-01-03  108  -5.0  -9.0  0.6\n",
      "2    \\t2023-01-04  108  -1.8  -5.7  3.3\n",
      "3    \\t2023-01-05  108  -1.6  -5.6  3.6\n",
      "4    \\t2023-01-06  108   0.6  -4.7  5.7\n",
      "..            ...  ...   ...   ...  ...\n",
      "359  \\t2023-12-27  108   1.5  -2.8  6.8\n",
      "360  \\t2023-12-28  108   1.2  -1.7  4.4\n",
      "361  \\t2023-12-29  108   1.3  -1.5  4.6\n",
      "362  \\t2023-12-30  108   0.6  -0.9  2.1\n",
      "363  \\t2023-12-31  108   2.1   0.6  4.3\n",
      "\n",
      "[364 rows x 5 columns]\n"
     ]
    },
    {
     "name": "stderr",
     "output_type": "stream",
     "text": [
      "<>:3: SyntaxWarning: invalid escape sequence '\\l'\n",
      "<>:7: SyntaxWarning: invalid escape sequence '\\l'\n",
      "<>:3: SyntaxWarning: invalid escape sequence '\\l'\n",
      "<>:7: SyntaxWarning: invalid escape sequence '\\l'\n",
      "C:\\Users\\802-02\\AppData\\Local\\Temp\\ipykernel_8448\\3178290399.py:3: SyntaxWarning: invalid escape sequence '\\l'\n",
      "  print(pd.read_csv('D:\\lecture\\python\\data\\seoulTemp_utf8.csv')) # csv 파일을 읽어 DataFrame 객체로 만들기\n",
      "C:\\Users\\802-02\\AppData\\Local\\Temp\\ipykernel_8448\\3178290399.py:7: SyntaxWarning: invalid escape sequence '\\l'\n",
      "  dfFruit.to_csv('D:\\lecture\\python\\data\\dfFruit.csv', index=False)\n"
     ]
    }
   ],
   "source": [
    "# csv 파일 pandas 라이브러리로 read, save 해보자\n",
    "\n",
    "print(pd.read_csv('D:\\lecture\\python\\data\\seoulTemp_utf8.csv')) # csv 파일을 읽어 DataFrame 객체로 만들기\n",
    "\n",
    "\n",
    "# dfFruit 객체를 csv로 저장해보자\n",
    "dfFruit.to_csv('D:\\lecture\\python\\data\\dfFruit.csv', index=False) # 인덱스를 생성하지 않고 csv 파일로 저장하기"
   ]
  },
  {
   "cell_type": "markdown",
   "metadata": {},
   "source": [
    "pandas의 DataFrame을 사용하여 데이터를 파악할 때 주로 사용하는 명령어\n",
    "\n",
    "head() : DataFrame의 처음 5개 row를 보여준다.\n",
    "tail() : DataFrame의 마지막 5개 row를 보여준다.\n",
    "shape : 행, 열의 갯수를 출력한다.\n",
    "info() : DataFrame의 변수, 속성 정보를 출력한다.\n",
    "describe() : 통계량을 요약하여 출력한다.\n"
   ]
  },
  {
   "cell_type": "code",
   "execution_count": 33,
   "metadata": {},
   "outputs": [
    {
     "name": "stdout",
     "output_type": "stream",
     "text": [
      "   id  nclass  math  english  science\n",
      "0   1       1    50       98       50\n",
      "1   2       1    60       97       60\n",
      "2   3       1    45       86       78\n",
      "3   4       1    30       98       58\n",
      "4   5       2    25       80       65\n",
      "    id  nclass  math  english  science\n",
      "15  16       4    58       98       65\n",
      "16  17       5    65       68       98\n",
      "17  18       5    80       78       90\n",
      "18  19       5    89       68       87\n",
      "19  20       5    78       83       58\n",
      "(20, 5)\n",
      "<class 'pandas.core.frame.DataFrame'>\n",
      "RangeIndex: 20 entries, 0 to 19\n",
      "Data columns (total 5 columns):\n",
      " #   Column   Non-Null Count  Dtype\n",
      "---  ------   --------------  -----\n",
      " 0   id       20 non-null     int64\n",
      " 1   nclass   20 non-null     int64\n",
      " 2   math     20 non-null     int64\n",
      " 3   english  20 non-null     int64\n",
      " 4   science  20 non-null     int64\n",
      "dtypes: int64(5)\n",
      "memory usage: 932.0 bytes\n",
      "None\n",
      "             id     nclass       math    english    science\n",
      "count  20.00000  20.000000  20.000000  20.000000  20.000000\n",
      "mean   10.50000   3.000000  57.450000  84.900000  59.450000\n",
      "std     5.91608   1.450953  20.299015  12.875517  25.292968\n",
      "min     1.00000   1.000000  20.000000  56.000000  12.000000\n",
      "25%     5.75000   2.000000  45.750000  78.000000  45.000000\n",
      "50%    10.50000   3.000000  54.000000  86.500000  62.500000\n",
      "75%    15.25000   4.000000  75.750000  98.000000  78.000000\n",
      "max    20.00000   5.000000  90.000000  98.000000  98.000000\n"
     ]
    },
    {
     "name": "stderr",
     "output_type": "stream",
     "text": [
      "<>:1: SyntaxWarning: invalid escape sequence '\\l'\n",
      "<>:1: SyntaxWarning: invalid escape sequence '\\l'\n",
      "C:\\Users\\802-02\\AppData\\Local\\Temp\\ipykernel_8448\\2972529637.py:1: SyntaxWarning: invalid escape sequence '\\l'\n",
      "  exam = pd.read_csv('D:\\lecture\\python\\data\\exam.csv')\n"
     ]
    }
   ],
   "source": [
    "exam = pd.read_csv('D:\\lecture\\python\\data\\exam.csv')\n",
    "\n",
    "print(exam.head())\n",
    "print(exam.tail())\n",
    "print(exam.shape) # (20, 5) : 20행, 5열을 의미한다.\n",
    "print(exam.info())\n",
    "print(exam.describe())"
   ]
  },
  {
   "cell_type": "code",
   "execution_count": 30,
   "metadata": {},
   "outputs": [
    {
     "data": {
      "text/html": [
       "<div>\n",
       "<style scoped>\n",
       "    .dataframe tbody tr th:only-of-type {\n",
       "        vertical-align: middle;\n",
       "    }\n",
       "\n",
       "    .dataframe tbody tr th {\n",
       "        vertical-align: top;\n",
       "    }\n",
       "\n",
       "    .dataframe thead th {\n",
       "        text-align: right;\n",
       "    }\n",
       "</style>\n",
       "<table border=\"1\" class=\"dataframe\">\n",
       "  <thead>\n",
       "    <tr style=\"text-align: right;\">\n",
       "      <th></th>\n",
       "      <th>id</th>\n",
       "      <th>nclass</th>\n",
       "      <th>math</th>\n",
       "      <th>english</th>\n",
       "      <th>science</th>\n",
       "    </tr>\n",
       "  </thead>\n",
       "  <tbody>\n",
       "    <tr>\n",
       "      <th>count</th>\n",
       "      <td>20.00000</td>\n",
       "      <td>20.000000</td>\n",
       "      <td>20.000000</td>\n",
       "      <td>20.000000</td>\n",
       "      <td>20.000000</td>\n",
       "    </tr>\n",
       "    <tr>\n",
       "      <th>mean</th>\n",
       "      <td>10.50000</td>\n",
       "      <td>3.000000</td>\n",
       "      <td>57.450000</td>\n",
       "      <td>84.900000</td>\n",
       "      <td>59.450000</td>\n",
       "    </tr>\n",
       "    <tr>\n",
       "      <th>std</th>\n",
       "      <td>5.91608</td>\n",
       "      <td>1.450953</td>\n",
       "      <td>20.299015</td>\n",
       "      <td>12.875517</td>\n",
       "      <td>25.292968</td>\n",
       "    </tr>\n",
       "    <tr>\n",
       "      <th>min</th>\n",
       "      <td>1.00000</td>\n",
       "      <td>1.000000</td>\n",
       "      <td>20.000000</td>\n",
       "      <td>56.000000</td>\n",
       "      <td>12.000000</td>\n",
       "    </tr>\n",
       "    <tr>\n",
       "      <th>25%</th>\n",
       "      <td>5.75000</td>\n",
       "      <td>2.000000</td>\n",
       "      <td>45.750000</td>\n",
       "      <td>78.000000</td>\n",
       "      <td>45.000000</td>\n",
       "    </tr>\n",
       "    <tr>\n",
       "      <th>50%</th>\n",
       "      <td>10.50000</td>\n",
       "      <td>3.000000</td>\n",
       "      <td>54.000000</td>\n",
       "      <td>86.500000</td>\n",
       "      <td>62.500000</td>\n",
       "    </tr>\n",
       "    <tr>\n",
       "      <th>75%</th>\n",
       "      <td>15.25000</td>\n",
       "      <td>4.000000</td>\n",
       "      <td>75.750000</td>\n",
       "      <td>98.000000</td>\n",
       "      <td>78.000000</td>\n",
       "    </tr>\n",
       "    <tr>\n",
       "      <th>max</th>\n",
       "      <td>20.00000</td>\n",
       "      <td>5.000000</td>\n",
       "      <td>90.000000</td>\n",
       "      <td>98.000000</td>\n",
       "      <td>98.000000</td>\n",
       "    </tr>\n",
       "  </tbody>\n",
       "</table>\n",
       "</div>"
      ],
      "text/plain": [
       "             id     nclass       math    english    science\n",
       "count  20.00000  20.000000  20.000000  20.000000  20.000000\n",
       "mean   10.50000   3.000000  57.450000  84.900000  59.450000\n",
       "std     5.91608   1.450953  20.299015  12.875517  25.292968\n",
       "min     1.00000   1.000000  20.000000  56.000000  12.000000\n",
       "25%     5.75000   2.000000  45.750000  78.000000  45.000000\n",
       "50%    10.50000   3.000000  54.000000  86.500000  62.500000\n",
       "75%    15.25000   4.000000  75.750000  98.000000  78.000000\n",
       "max    20.00000   5.000000  90.000000  98.000000  98.000000"
      ]
     },
     "execution_count": 30,
     "metadata": {},
     "output_type": "execute_result"
    }
   ],
   "source": [
    "# count : 데이터 빈도수\n",
    "# mean : 평균\n",
    "# std : 표준편차\n",
    "# max : 최대값\n",
    "\n",
    "exam.describe()"
   ]
  },
  {
   "cell_type": "code",
   "execution_count": null,
   "metadata": {},
   "outputs": [],
   "source": [
    "exam.head(2) # head(n) , tail(n)"
   ]
  },
  {
   "cell_type": "markdown",
   "metadata": {},
   "source": [
    "문제. mpg.csv 파일을 읽고 \n",
    "    1) 몇 행 몇열로 구성되어있는가?\n",
    "    2) 각 컬럼의 데이터 타입을 알아보자\n",
    "    3) mpg 데이터의 통계 요약을 출력하세요."
   ]
  },
  {
   "cell_type": "code",
   "execution_count": 40,
   "metadata": {},
   "outputs": [
    {
     "name": "stdout",
     "output_type": "stream",
     "text": [
      "(234, 11)\n",
      "------------------------------\n",
      "<class 'pandas.core.frame.DataFrame'>\n",
      "RangeIndex: 234 entries, 0 to 233\n",
      "Data columns (total 11 columns):\n",
      " #   Column        Non-Null Count  Dtype  \n",
      "---  ------        --------------  -----  \n",
      " 0   manufacturer  234 non-null    object \n",
      " 1   model         234 non-null    object \n",
      " 2   displ         234 non-null    float64\n",
      " 3   year          234 non-null    int64  \n",
      " 4   cyl           234 non-null    int64  \n",
      " 5   trans         234 non-null    object \n",
      " 6   drv           234 non-null    object \n",
      " 7   cty           234 non-null    int64  \n",
      " 8   hwy           234 non-null    int64  \n",
      " 9   fl            234 non-null    object \n",
      " 10  class         234 non-null    object \n",
      "dtypes: float64(1), int64(4), object(6)\n",
      "memory usage: 20.2+ KB\n",
      "None\n",
      "------------------------------\n",
      "            displ         year         cyl         cty         hwy\n",
      "count  234.000000   234.000000  234.000000  234.000000  234.000000\n",
      "mean     3.471795  2003.500000    5.888889   16.858974   23.440171\n",
      "std      1.291959     4.509646    1.611534    4.255946    5.954643\n",
      "min      1.600000  1999.000000    4.000000    9.000000   12.000000\n",
      "25%      2.400000  1999.000000    4.000000   14.000000   18.000000\n",
      "50%      3.300000  2003.500000    6.000000   17.000000   24.000000\n",
      "75%      4.600000  2008.000000    8.000000   19.000000   27.000000\n",
      "max      7.000000  2008.000000    8.000000   35.000000   44.000000\n",
      "       manufacturer        model       displ         year         cyl  \\\n",
      "count           234          234  234.000000   234.000000  234.000000   \n",
      "unique           15           38         NaN          NaN         NaN   \n",
      "top           dodge  caravan 2wd         NaN          NaN         NaN   \n",
      "freq             37           11         NaN          NaN         NaN   \n",
      "mean            NaN          NaN    3.471795  2003.500000    5.888889   \n",
      "std             NaN          NaN    1.291959     4.509646    1.611534   \n",
      "min             NaN          NaN    1.600000  1999.000000    4.000000   \n",
      "25%             NaN          NaN    2.400000  1999.000000    4.000000   \n",
      "50%             NaN          NaN    3.300000  2003.500000    6.000000   \n",
      "75%             NaN          NaN    4.600000  2008.000000    8.000000   \n",
      "max             NaN          NaN    7.000000  2008.000000    8.000000   \n",
      "\n",
      "           trans  drv         cty         hwy   fl class  \n",
      "count        234  234  234.000000  234.000000  234   234  \n",
      "unique        10    3         NaN         NaN    5     7  \n",
      "top     auto(l4)    f         NaN         NaN    r   suv  \n",
      "freq          83  106         NaN         NaN  168    62  \n",
      "mean         NaN  NaN   16.858974   23.440171  NaN   NaN  \n",
      "std          NaN  NaN    4.255946    5.954643  NaN   NaN  \n",
      "min          NaN  NaN    9.000000   12.000000  NaN   NaN  \n",
      "25%          NaN  NaN   14.000000   18.000000  NaN   NaN  \n",
      "50%          NaN  NaN   17.000000   24.000000  NaN   NaN  \n",
      "75%          NaN  NaN   19.000000   27.000000  NaN   NaN  \n",
      "max          NaN  NaN   35.000000   44.000000  NaN   NaN  \n",
      "------------------------------\n"
     ]
    },
    {
     "name": "stderr",
     "output_type": "stream",
     "text": [
      "<>:1: SyntaxWarning: invalid escape sequence '\\l'\n",
      "<>:1: SyntaxWarning: invalid escape sequence '\\l'\n",
      "C:\\Users\\802-02\\AppData\\Local\\Temp\\ipykernel_8448\\1260731294.py:1: SyntaxWarning: invalid escape sequence '\\l'\n",
      "  car = pd.read_csv('D:\\lecture\\python\\data\\mpg.csv')\n"
     ]
    }
   ],
   "source": [
    "car = pd.read_csv('D:\\lecture\\python\\data\\mpg.csv')\n",
    "\n",
    "print(car.shape) # 234행, 11열\n",
    "print('------------------------------')\n",
    "print(car.info())\n",
    "print('------------------------------')\n",
    "# 통계량을 산출할 수 있는 컬럼에 대해서만 값이 나온다.\n",
    "print(car.describe()) \n",
    "print('------------------------------')\n"
   ]
  },
  {
   "cell_type": "code",
   "execution_count": null,
   "metadata": {},
   "outputs": [],
   "source": [
    "# 통계량을 산출할 수 있는 컬럼에 대해서만 값이 나온다.\n",
    "print(car.describe()) \n",
    "# 모든 컬럼에 대한 통계 요약 정보를 보고싶을 때는 include='all' 속성을 추가한다. 이 때 NaN = Not a Number = 숫자가 아니다.\n",
    "car.describe(include='all')"
   ]
  }
 ],
 "metadata": {
  "kernelspec": {
   "display_name": "Python 3",
   "language": "python",
   "name": "python3"
  },
  "language_info": {
   "codemirror_mode": {
    "name": "ipython",
    "version": 3
   },
   "file_extension": ".py",
   "mimetype": "text/x-python",
   "name": "python",
   "nbconvert_exporter": "python",
   "pygments_lexer": "ipython3",
   "version": "3.12.4"
  }
 },
 "nbformat": 4,
 "nbformat_minor": 2
}
