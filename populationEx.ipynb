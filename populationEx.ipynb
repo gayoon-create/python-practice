{
 "cells": [
  {
   "cell_type": "markdown",
   "metadata": {},
   "source": [
    "2024 7월 기준 인구 데이터를 가지고, 여러가지 데이터 분석과 시각화를 해봅시다."
   ]
  },
  {
   "cell_type": "code",
   "execution_count": 19,
   "metadata": {},
   "outputs": [
    {
     "data": {
      "image/png": "[encoded data removed]",
      "text/plain": [
       "<Figure size 640x480 with 1 Axes>"
      ]
     },
     "metadata": {},
     "output_type": "display_data"
    }
   ],
   "source": [
    "import csv\n",
    "import matplotlib.pyplot as plt\n",
    "\n",
    "file = open('202407_population.csv', 'r', encoding='utf-8')\n",
    "data = csv.reader(file, delimiter=',')\n",
    "\n",
    "popList = []\n",
    "addrName = ''\n",
    "\n",
    "code = input('조회하시길 원하는 지역의 코드를 입력하세요')\n",
    "\n",
    "for row in data :\n",
    "    if code in row[0] :\n",
    "        addrName = row[0]\n",
    "        for i in row[3:104] : # 남녀 연령별 인구 (0세 ~ 100세 이상)\n",
    "            popList.append(int(i.replace(',', '')))\n",
    "\n",
    "file.close()\n",
    "plt.rcParams['font.family'] = 'D2Coding'\n",
    "plt.title(addrName + \"지역의 2024년 7월 인구 분포\")\n",
    "plt.bar(range(101), popList)\n",
    "plt.show()"
   ]
  },
  {
   "cell_type": "markdown",
   "metadata": {},
   "source": [
    "위 코드를 응용하여 서울시 강서구 지역의 남자(blue), 여자(red) 분포도를 각각 그리세요.\n",
    "\n",
    "남자 0 ~ 100 : 106:207\n",
    "여자 0 ~ 100 : 209:310"
   ]
  },
  {
   "cell_type": "code",
   "execution_count": null,
   "metadata": {},
   "outputs": [],
   "source": [
    "import csv\n",
    "import matplotlib.pyplot as plt\n",
    "from matplotlib.ticker import FuncFormatter\n",
    "\n",
    "# 데이터 파일 열기\n",
    "with open('202407_population.csv', 'r', encoding='utf-8') as file:\n",
    "    data = csv.reader(file, delimiter=',')\n",
    "\n",
    "    maleList = []\n",
    "    femaleList = []\n",
    "    addrName = ''\n",
    "\n",
    "    # 사용자로부터 지역 코드 입력 받기\n",
    "    code = input('조회하시길 원하는 지역의 코드를 입력하세요: ')\n",
    "\n",
    "    # 데이터에서 해당 지역 코드 찾기\n",
    "    for row in data:\n",
    "        if code in row[0]:\n",
    "            addrName = row[0]\n",
    "\n",
    "            # 남성과 여성 인구 데이터를 리스트에 저장\n",
    "            for i in range(101):\n",
    "                maleList.append(int(row[i+106].replace(',', '')))\n",
    "                femaleList.append(int(row[i+209].replace(',', '')))\n",
    "            break  # 찾은 지역 데이터가 있으면 루프 종료\n",
    "\n",
    "# 시각화 설정\n",
    "plt.rcParams['font.family'] = 'D2Coding'\n",
    "plt.title(addrName + \" 지역의 2024년 7월 남녀 인구 분포\")\n",
    "\n",
    "# 막대 차트를 각각 남성과 여성 데이터로 생성\n",
    "indices = range(101)\n",
    "plt.barh(indices, [-m for m in maleList], color='blue', label='남성', align='center', height=0.4)  # 남성 데이터를 음수로 변환\n",
    "plt.barh(indices, femaleList, color='red', label='여성', align='center', height=0.4)  # 여성 데이터는 그대로\n",
    "\n",
    "# x축의 범위 조정\n",
    "max_value = max(max(maleList), max(femaleList))\n",
    "plt.xlim(-max_value * 1.1, max_value * 1.1)  # x축의 범위를 양쪽 방향으로 확장\n",
    "\n",
    "# x축 포맷터 설정 (음수 기호 숨기기)\n",
    "def format_func(value, tick_number):\n",
    "    if value < 0:\n",
    "        return f'{-value:,.0f}'\n",
    "    return f'{value:,.0f}'\n",
    "\n",
    "plt.gca().xaxis.set_major_formatter(FuncFormatter(format_func))\n",
    "\n",
    "# x=0에 수직선 추가\n",
    "plt.axvline(0, color='black', linewidth=0.8)  # x=0에 수직선 추가\n",
    "\n",
    "# 마이너스 기호 깨짐 방지\n",
    "plt.rcParams['axes.unicode_minus'] = False\n",
    "\n",
    "plt.legend()\n",
    "plt.show()\n"
   ]
  },
  {
   "cell_type": "markdown",
   "metadata": {},
   "source": [
    "문제. 제주도에는 과연 여자가 많을까? 제주도의 남녀 인구 비율을 파이 차트로 시각화 해보자."
   ]
  },
  {
   "cell_type": "code",
   "execution_count": null,
   "metadata": {},
   "outputs": [],
   "source": [
    "# 5000000000\n",
    "\n",
    "import csv\n",
    "import matplotlib.pyplot as plt\n",
    "\n",
    "# 데이터 파일 열기\n",
    "with open('202407_population.csv', 'r', encoding='utf-8') as file:\n",
    "    data = csv.reader(file, delimiter=',')\n",
    "\n",
    "    jejuPopulation = []\n",
    "\n",
    "    for row in data :\n",
    "        if '5000000000' in row[0] :\n",
    "            jejuPopulation.append(int(row[104].replace(',', '')))\n",
    "            jejuPopulation.append(int(row[207].replace(',', '')))\n",
    "print(maleList)\n",
    "print(femaleList)\n",
    "file.close()\n",
    "plt.rcParams['font.family'] = 'D2Coding'\n",
    "plt.title(\"제주도의 남녀 인구 분포\")\n",
    "label = ['남성', '여성']\n",
    "colors = ['blue','red']\n",
    "plt.pie(jejuPopulation, labels = label, colors = colors, autopct='%1.1f%%')\n",
    "plt.legend()\n",
    "plt.show()\n"
   ]
  },
  {
   "cell_type": "markdown",
   "metadata": {},
   "source": []
  }
 ],
 "metadata": {
  "kernelspec": {
   "display_name": "Python 3",
   "language": "python",
   "name": "python3"
  },
  "language_info": {
   "codemirror_mode": {
    "name": "ipython",
    "version": 3
   },
   "file_extension": ".py",
   "mimetype": "text/x-python",
   "name": "python",
   "nbconvert_exporter": "python",
   "pygments_lexer": "ipython3",
   "version": "3.12.4"
  }
 },
 "nbformat": 4,
 "nbformat_minor": 2
}
