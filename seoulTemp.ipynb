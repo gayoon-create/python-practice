{
 "cells": [
  {
   "cell_type": "markdown",
   "metadata": {},
   "source": [
    "공공 데이터의 기상자료(서울의 기온 변화)를 csv 파일로 얻어와서 데이터를 분석해보고, 시각화를 해보자"
   ]
  },
  {
   "cell_type": "markdown",
   "metadata": {},
   "source": [
    "csv 파일을 읽어와 출력해보자."
   ]
  },
  {
   "cell_type": "code",
   "execution_count": null,
   "metadata": {},
   "outputs": [],
   "source": [
    "import csv\n",
    "file = open('seoulTemp.csv', 'r', encoding='utf-8')\n",
    "\n",
    "data = csv.reader(file, delimiter=',')\n",
    "\n",
    "print(data)\n",
    "\n",
    "file.close()"
   ]
  },
  {
   "cell_type": "code",
   "execution_count": null,
   "metadata": {},
   "outputs": [],
   "source": [
    "import csv\n",
    "file = open('seoulTemp.csv', 'r', encoding='utf-8')\n",
    "\n",
    "data = csv.reader(file, delimiter=',')\n",
    "\n",
    "for row in data : # data에서 한 row를 읽어 그 row가 있을 동안 반복\n",
    "    print(row)\n",
    "    \n",
    "\n",
    "file.close()"
   ]
  },
  {
   "cell_type": "markdown",
   "metadata": {},
   "source": [
    "제목 헤더까지 함께 출력된 것을 볼 수 있다. 하지만 데이터 분석이나 시각화를 하기 위해서는 헤더가 필요하지 않다.\n",
    "헤더를 제외한 순수 데이터만 출력해보자."
   ]
  },
  {
   "cell_type": "code",
   "execution_count": null,
   "metadata": {},
   "outputs": [],
   "source": [
    "import csv\n",
    "file = open('seoulTemp.csv', 'r', encoding='utf-8')\n",
    "\n",
    "data = csv.reader(file, delimiter=',')\n",
    "header = next(data)\n",
    "for row in data : # data에서 한 row를 읽어 그 row가 있을 동안 반복\n",
    "    print(row)\n",
    "    \n",
    "\n",
    "file.close()"
   ]
  },
  {
   "cell_type": "markdown",
   "metadata": {},
   "source": [
    "문제) 기온 관측상 서울에서 가장 더웠던 날과 그 날의 최고기온을 출력해보자.\n",
    "     + 기온 관측상 서울에서 가장 추웠던 날과 그 날의 최저기온을 출력해보자.\n",
    "\n",
    "위의 문제를 풀기 위해서는 원시 데이터를 선처리 해줘야 한다.\n",
    "1) 6.25 전쟁 시 기온 관측을 하지 못한 날짜에 대해서 선처리 작업\n",
    "2) 날짜 데이터 앞에 tab('\\t')에 대한 처리\n",
    "3) 기온 데이터가 문자열 타입이므로 실수 타입으로 변환\n",
    "\n",
    "위와 같이 원시 데이터를 선처리하는 작업을 데이터 정제화(네가 사용할 데이터 형식으로 가공처리 하는 것)라고 한다.\n"
   ]
  },
  {
   "cell_type": "code",
   "execution_count": null,
   "metadata": {},
   "outputs": [],
   "source": [
    "import csv\n",
    "file = open('seoulTemp.csv', 'r', encoding='utf-8')\n",
    "\n",
    "data = csv.reader(file, delimiter=',')\n",
    "header = next(data)\n",
    "for row in data : # data에서 한 row를 읽어 그 row가 있을 동안 반복\n",
    "    row[0].replace('\\t', '') # tab(\\t)을 빈 문자열('')로 변환\n",
    "    if row[-1] == '' :\n",
    "        row[-1] = -9999 # 최고기온의 값이 누락되어있을 경우 -9999로 대체\n",
    "    row[-1] = float(row[-1]) # 최고기온을 float로 변환\n",
    "\n",
    "    if row[3] == '' :\n",
    "        row[3] = -9999 \n",
    "    row[3] = float(row[3])\n",
    "    \n",
    "    print(row)\n",
    "\n",
    "file.close()"
   ]
  },
  {
   "cell_type": "markdown",
   "metadata": {},
   "source": [
    "데이터 전처리 작업을 완료했으므로, 최저기온과 최고기온을 찾아보자"
   ]
  },
  {
   "cell_type": "code",
   "execution_count": 8,
   "metadata": {},
   "outputs": [
    {
     "name": "stdout",
     "output_type": "stream",
     "text": [
      "최고 더웠던 날은 2018-08-01 이머, 그날의 최고기온은 39.600000 입니다\n",
      "최고 추웠던 날은 1927-12-31 이머, 그날의 최저기온은 -23.100000 입니다\n"
     ]
    }
   ],
   "source": [
    "import csv\n",
    "file = open('seoulTemp.csv','r', encoding='utf-8')\n",
    "\n",
    "data = csv.reader(file, delimiter=',')\n",
    "header = next(data)\n",
    "\n",
    "max_temp = -9999\n",
    "min_temp = 9999\n",
    "\n",
    "max_date = ''\n",
    "min_date = ''\n",
    "\n",
    "for row in data:     # 데이터에서 한 row를 읽어 그 row가 있을 동안 반복\n",
    "    row[0] = row[0].replace('\\t','')\n",
    "    if row[-1] == '' :\n",
    "        row[-1] = -9999   # 최고기온의 값이 누락 되어 있을 경우 -9999로 대체\n",
    "    row[-1] = float(row[-1])  # 최고기온을 float로 변환\n",
    "    if row[3] == '' :\n",
    "        row[3] = 9999\n",
    "    row[3] = float(row[3])  \n",
    "    \n",
    "    if row[-1] > max_temp:   # 최고기온과 최고기온을 찍었던 날짜를 저장\n",
    "        max_temp = row[-1]\n",
    "        max_date = row[0]\n",
    "    \n",
    "    if row[3] < min_temp:    # 최저기온과 최저기온을 찍었던 날짜를 저장\n",
    "        min_temp = row[3]\n",
    "        min_date = row[0]\n",
    "print(\"최고 더웠던 날은 %s 이며, 그날의 최고기온은 %f 입니다\" % (max_date, max_temp))\n",
    "print(\"최고 추웠던 날은 %s 이며, 그날의 최저기온은 %f 입니다\" % (min_date, min_temp))\n",
    "file.close()"
   ]
  },
  {
   "cell_type": "markdown",
   "metadata": {},
   "source": [
    "문제. 서울의 최고기온을 기준으로 내림차순 정렬하여 출력하세요."
   ]
  },
  {
   "cell_type": "code",
   "execution_count": null,
   "metadata": {},
   "outputs": [],
   "source": [
    "import csv\n",
    "file = open('seoulTemp.csv','r', encoding='utf-8')\n",
    "\n",
    "data = csv.reader(file, delimiter=',')\n",
    "header = next(data)\n",
    "\n",
    "maxTempList = []\n",
    "\n",
    "for row in data:     # 데이터에서 한 row를 읽어 그 row가 있을 동안 반복\n",
    "    row[0] = row[0].replace('\\t','')\n",
    "    if row[-1] == '' :\n",
    "        row[-1] = -9999   # 최고기온의 값이 누락 되어 있을 경우 -9999로 대체\n",
    "    row[-1] = float(row[-1])  # 최고기온을 float로 변환\n",
    "    if row[3] == '' :\n",
    "        row[3] = 9999\n",
    "    row[3] = float(row[3])  \n",
    "\n",
    "    maxTempList.append(row[-1])\n",
    "\n",
    "print(maxTempList)\n",
    "\n",
    "maxTempList.sort() # 오름차순 정렬\n",
    "maxTempList.reverse() # 내림차순 정렬\n",
    "\n",
    "print(maxTempList)\n",
    "\n",
    "file.close()"
   ]
  },
  {
   "cell_type": "markdown",
   "metadata": {},
   "source": [
    "문제. seoulTemp.csv 파일을 읽어서, 2024년 7월의 최고기온을 빨간색 선그래프로, 2024년 7월의 최저기온을 파란색 선그래프로 2024년 7월의 평균기온을 초록색 선그래프로 출력하세요.\n",
    "\n",
    "1. csv 파일을 읽는다.\n",
    "2. 원하는 날짜인지 데이터를 확인한다.\n",
    "3. 원하는 날짜일 때 최고기온, 최저기온, 평균기온의 값을 각각 다른 리스트에 저장한다.\n",
    "4. matplotlib.pyplot을 이용하여 차트를 그린다."
   ]
  },
  {
   "cell_type": "code",
   "execution_count": null,
   "metadata": {},
   "outputs": [],
   "source": [
    "import csv\n",
    "import matplotlib.pyplot as plt\n",
    "import numpy as np\n",
    "\n",
    "file = open('seoulTemp.csv','r', encoding='utf-8')\n",
    "\n",
    "data = csv.reader(file, delimiter=',')\n",
    "header = next(data)\n",
    "\n",
    "\n",
    "minTempList = []\n",
    "maxTempList = []\n",
    "avgTempList = []\n",
    "dateList = []\n",
    "\n",
    "for row in data : \n",
    "    row[0] = row[0].replace('\\t','')\n",
    "    if row[0].startswith('2024-07') :\n",
    "        dateList.append(row[0])\n",
    "        maxTempList.append(float(row[-1]))\n",
    "        minTempList.append(float(row[3]))\n",
    "        avgTempList.append(float(row[2]))\n",
    "file.close()\n",
    "\n",
    "\n",
    "\n",
    "plt.rcParams['font.family'] ='D2Coding' # 폰트 설정(한글을 사용하려면 반드시 폰트를 지정해줘야 한다.)\n",
    "plt.title('2024년 7월 기온변화')\n",
    "plt.plot(maxTempList, color='red', label='최고기온')\n",
    "plt.plot(minTempList, color='blue', label='최저기온') \n",
    "plt.plot(avgTempList, color='green', label='평균기온') \n",
    "plt.xticks(np.arange(len(dateList)), dateList, rotation=45) # x축 레이블링\n",
    "\n",
    "plt.legend()\n",
    "plt.show()"
   ]
  },
  {
   "cell_type": "markdown",
   "metadata": {},
   "source": [
    "문제. seoulTemp.csv 파일을 읽어서, 원하는 날짜의 최고기온, 최저기온 그래프를 그리세요.(1907년 ~ 2023년까지)\n",
    "      (만약 해당일의 데이터가 없다면 그래프로 그리지 않는다.)"
   ]
  },
  {
   "cell_type": "markdown",
   "metadata": {},
   "source": [
    "문제. seoulTemp.csv 파일을 읽어서, 1월과 8월의 최고기온을 각각 히스토그램 차트로 출력해보자."
   ]
  },
  {
   "cell_type": "code",
   "execution_count": 24,
   "metadata": {},
   "outputs": [
    {
     "name": "stdout",
     "output_type": "stream",
     "text": [
      "[29.6, 30.7, 32.0, 31.5, 32.4, 33.6, 30.9, 29.5, 26.7, 26.8, 30.5, 30.5, 29.0, 28.9, 30.4, 31.7, 32.0, 33.3, 32.5, 33.5, 31.1, 26.7, 26.1, 27.5, 23.9, 21.3, 23.3, 26.0, 27.7, 27.9, 27.2, 32.3, 27.5, 31.7, 33.2, 34.5, 31.7, 30.2, 35.6, 34.8, 33.0, 30.8, 27.8, 24.8, 23.9, 23.8, 25.3, 27.3, 28.3, 30.3, 30.3, 30.0, 30.0, 27.7, 30.9, 25.3, 26.8, 29.1, 30.5, 30.6, 29.5, 26.5, 32.0, 31.6, 31.4, 31.2, 32.0, 29.9, 29.0, 30.3, 30.6, 30.6, 31.5, 31.0, 30.6, 29.5, 27.4, 28.1, 27.4, 28.4, 25.2, 29.5, 26.5, 29.0, 28.9, 29.0, 31.5, 31.2, 26.0, 23.9, 27.8, 29.0, 25.4, 31.0, 29.0, 30.5, 29.5, 28.8, 27.5, 31.4, 32.0, 33.0, 33.8, 32.9, 34.5, 33.8, 31.7, 32.5, 32.4, 33.5, 32.4, 28.0, 32.2, 30.1, 30.5, 30.1, 22.8, 24.0, 28.4, 28.5, 29.5, 31.1, 31.5, 31.0, 31.5, 32.0, 32.2, 32.7, 34.0, 31.0, 30.9, 31.0, 32.2, 33.2, 33.0, 31.3, 30.6, 31.5, 30.3, 24.9, 24.9, 21.5, 20.3, 23.4, 27.2, 26.9, 29.0, 29.5, 28.5, 27.5, 28.5, 28.2, 29.2, 29.3, 29.4, 31.7, 31.5, 28.9, 29.3, 29.0, 29.8, 31.5, 31.7, 30.1, 28.9, 27.8, 25.7, 27.1, 29.2, 31.4, 29.5, 28.0, 29.9, 27.9, 26.1, 31.4, 30.0, 29.3, 29.2, 28.4, 28.5, 28.8, 28.1, 27.3, 24.9, 26.9, 26.3, 30.0, 25.1, 26.6, 25.9, 27.3, 26.5, 28.6, 29.4, 29.4, 32.5, 33.3, 31.1, 31.3, 31.5, 32.0, 33.2, 33.2, 32.9, 32.1, 34.4, 33.5, 32.7, 30.0, 26.9, 27.1, 23.4, 27.8, 30.9, 30.3, 31.8, 33.1, 34.1, 34.8, 34.3, 33.5, 30.0, 31.7, 33.2, 30.3, 28.9, 29.6, 22.4, 27.8, 30.3, 29.6, 27.8, 31.7, 31.0, 30.5, 31.8, 26.7, 22.1, 25.3, 25.1, 24.0, 28.9, 26.8, 28.6, 27.6, 23.5, 26.3, 32.1, 31.7, 32.4, 30.7, 27.3, 31.5, 27.5, 29.3, 30.2, 28.4, 27.5, 30.7, 30.7, 28.5, 31.9, 31.8, 32.5, 32.8, 29.5, 29.3, 30.3, 32.3, 32.8, 30.8, 32.4, 32.1, 33.0, 31.8, 30.0, 24.7, 28.9, 35.7, 36.6, 35.3, 29.6, 29.7, 31.0, 32.2, 25.4, 30.7, 26.8, 31.6, 31.3, 29.5, 28.0, 28.8, 30.8, 31.3, 30.0, 30.4, 29.5, 23.9, 27.3, 29.7, 30.2, 28.2, 29.3, 30.7, 30.5, 30.1, 27.2, 30.0, 30.5, 31.1, 32.3, 33.3, 32.3, 34.2, 35.2, 31.5, 29.1, 26.3, 27.3, 31.5, 27.3, 28.6, 25.1, 27.1, 27.9, 27.1, 25.7, 28.4, 29.2, 29.6, 31.0, 31.7, 31.0, 32.0, 30.2, 29.3, 31.2, 29.8, 28.0, 37.5, 35.3, 32.5, 31.9, 34.6, 34.5, 35.5, 34.2, 33.2, 33.9, 35.3, 36.2, 37.3, 34.8, 30.8, 29.7, 31.3, 34.1, 34.6, 35.7, 33.8, 26.5, 30.0, 32.3, 31.6, 25.1, 24.6, 30.0, 26.8, 25.4, 28.3, 26.4, 25.5, 31.4, 29.3, 29.8, 31.0, 30.7, 31.3, 33.3, 33.6, 30.4, 25.5, 28.8, 30.0, 32.0, 31.8, 32.5, 28.6, 32.2, 31.0, 33.3, 30.8, 29.9, 30.8, 31.0, 27.5, 28.3, 29.3, 28.9, 29.7, 26.5, 29.4, 30.0, 28.1, 26.0, 28.4, 29.3, 30.5, 33.4, 32.0, 32.2, 32.2, 33.0, 34.3, 35.9, 36.0, 35.2, 34.5, 33.1, 34.3, 34.9, 34.9, 34.2, 32.6, 30.2, 29.8, 25.8, 27.7, 24.0, 21.1, 23.5, 26.9, 26.4, 26.4, 29.0, 31.2, 31.6, 32.3, 30.7, 26.9, 30.2, 31.7, 32.1, 32.0, 27.0, 33.2, 34.1, 36.3, 34.0, 31.4, 31.0, 29.6, 29.9, 24.5, 26.4, 27.8, 27.5, 26.4, 28.3, 31.0, 32.0, 33.6, 34.5, 26.4, 28.5, 28.7, 29.5, 33.0, 35.9, 34.9, 33.5, 34.6, 32.9, 34.0, 32.4, 28.7, 27.2, 29.8, 31.2, 31.7, 30.6, 28.1, 32.5, 33.5, 34.6, 34.4, 28.9, 26.5, 30.4, 29.0, 30.9, 24.6, 30.5, 31.2, 32.6, 33.6, 35.5, 33.7, 33.9, 34.0, 31.5, 35.9, 37.4, 37.0, 37.0, 35.2, 35.3, 35.6, 32.0, 31.9, 32.5, 34.8, 33.4, 33.8, 32.5, 30.6, 32.5, 34.9, 32.3, 32.1, 29.7, 29.4, 23.0, 26.6, 26.8, 30.2, 31.4, 30.4, 29.8, 28.3, 27.8, 26.5, 25.9, 29.8, 30.5, 30.1, 31.7, 29.2, 31.4, 30.4, 30.7, 32.2, 29.8, 25.6, 31.7, 32.6, 33.1, 32.8, 32.2, 32.7, 32.6, 33.6, 31.0, 26.0, 26.1, 26.5, 25.2, 29.3, 28.3, 26.3, 25.2, 28.6, 29.5, 29.2, 27.7, 31.1, 32.7, 30.4, 30.1, 31.0, 33.0, 28.6, 29.3, 29.6, 31.4, 32.0, 30.3, 25.9, 31.4, 25.8, 29.9, 31.6, 30.4, 29.0, 29.0, 29.6, 28.5, 28.3, 31.4, 32.5, 28.7, 32.7, 32.8, 33.3, 33.2, 27.8, 29.4, 30.9, 31.4, 31.6, 31.2, 32.3, 28.1, 28.0, 28.8, 30.0, 30.5, 26.5, 29.0, 25.9, 29.2, 29.8, 30.0, 29.0, 31.6, 26.6, 29.7, 25.6, 31.9, 30.8, 31.7, 32.6, 29.8, 30.7, 33.2, 34.9, 33.6, 31.9, 32.0, 31.6, 34.0, 35.2, 33.5, 34.2, 30.5, 32.7, 33.4, 32.0, 31.8, 32.4, 32.2, 32.3, 33.4, 33.6, 30.7, 23.7, 22.1, 30.9, 29.0, 33.7, 36.0, 34.9, 35.4, 36.7, 36.5, 31.8, 31.0, 33.5, 35.1, 35.1, 36.7, 36.0, 35.9, 32.4, 26.7, 28.4, 31.5, 31.8, 30.7, 29.8, 30.7, 30.2, 26.7, 31.0, 25.6, 27.9, 29.5, 29.8, 25.1, 28.8, 36.1, 36.7, 35.2, 33.7, 33.5, 35.4, 36.0, 36.0, 36.5, 37.1, 37.4, 36.9, 36.5, 35.0, 27.4, 31.2, 32.0, 30.2, 30.5, 31.7, 26.0, 28.7, 30.7, 28.0, 31.1, 31.2, 28.5, 28.4, 24.2, 27.6, 27.4, 30.1, 26.0, 26.4, 24.2, 30.3, 27.5, 29.5, 34.3, 36.0, 30.9, 25.3, 30.4, 32.0, 32.9, 33.7, 35.0, 28.7, 28.5, 30.7, 25.4, 28.0, 31.1, 31.5, 24.8, 31.7, 31.7, 25.7, 29.0, 27.1, 28.6, 28.5, 37.2, 37.2, 30.5, 28.7, 29.0, 30.0, 30.1, 31.2, 33.7, 36.0, 32.5, 34.2, 34.5, 31.0, 35.0, 32.1, 26.4, 30.3, 27.3, 30.2, 30.4, 26.7, 28.3, 26.7, 31.3, 26.0, 29.9, 32.5, 31.8, 25.3, 24.3, 30.8, 32.5, 26.9, 27.1, 26.2, 29.4, 30.7, 27.8, 30.6, 30.9, 25.9, 28.1, 29.0, 28.0, 29.3, 30.3, 27.0, 26.3, 26.2, 22.5, 26.3, 27.5, 28.3, 29.1, 28.7, 28.5, 27.7, 28.7, 30.7, 29.7, 27.2, 28.5, 29.3, 27.1, 25.9, 28.9, 31.6, 33.4, 32.8, 28.2, 28.5, 25.6, 27.8, 24.1, 21.1, 29.1, 30.7, 30.7, 28.3, 31.7, 28.7, 28.3, 29.5, 25.6, 29.4, 28.3, 28.7, 28.2, 21.6, 23.3, 25.5, 27.1, 30.1, 32.6, 33.5, 30.6, 26.2, 30.1, 29.8, 29.6, 31.0, 31.3, 31.7, 26.6, 28.3, 31.5, 32.5, 31.6, 33.1, 32.2, 28.9, 29.9, 30.8, 28.7, 25.2, 26.7, 31.2, 29.4, 28.5, 31.5, 30.5, 29.7, 29.1, 27.8, 27.6, 27.6, 24.2, 27.8, 29.0, 29.1, 27.5, 29.8, 25.0, 24.5, 26.7, 29.8, 24.6, 26.9, 28.8, 30.7, 29.4, 28.1, 24.0, 28.8, 27.4, 25.4, 28.1, 24.2, 23.2, 22.2, 25.6, 26.5, 27.0, 27.9, 33.5, 34.6, 34.6, 34.0, 34.1, 32.7, 31.5, 29.7, 31.6, 29.5, 28.5, 31.2, 32.3, 34.2, 32.6, 33.4, 35.1, 33.2, 33.6, 33.1, 33.1, 34.3, 34.1, 30.6, 31.4, 30.0, 25.6, 29.6, 29.4, 30.6, 30.3, 34.2, 32.7, 30.8, 34.8, 34.0, 34.9, 35.6, 33.7, 33.7, 35.1, 34.0, 34.9, 33.2, 33.3, 33.2, 30.7, 26.0, 28.3, 28.8, 31.0, 31.0, 31.1, 32.6, 31.2, 31.1, 28.1, 31.8, 26.2, 30.2, 31.2, 31.5, 31.8, 33.3, 34.1, 30.7, 33.6, 35.1, 37.4, 36.2, 36.4, 38.2, 35.7, 35.9, 35.9, 32.5, 33.6, 33.7, 35.0, 35.5, 35.6, 36.2, 37.3, 37.7, 36.8, 34.8, 30.1, 35.3, 35.3, 32.6, 27.4, 29.4, 31.8, 32.9, 32.7, 29.6, 30.4, 31.3, 27.5, 26.1, 23.5, 26.5, 23.9, 30.4, 31.9, 28.3, 29.7, 26.1, 32.4, 31.7, 31.6, 30.9, 31.4, 34.3, 33.8, 33.3, 26.8, 28.9, 26.7, 28.4, 26.7, 24.8, 22.8, 28.1, 30.8, 30.3, 32.0, 31.6, 26.3, 32.0, 33.6, 27.7, 30.0, 25.4, 22.7, 27.8, 29.5, 31.9, 32.4, 30.6, 30.0, 31.8, 28.9, 31.1, 25.9, 21.6, 27.4, 22.2, 25.3, 28.0, 30.2, 26.5, 29.9, 25.7, 29.8, 28.7, 31.4, 31.5, 29.7, 26.7, 32.7, 31.3, 29.2, 28.2, 31.7, 34.2, 33.7, 33.2, 33.5, 34.5, 28.7, 27.1, 31.7, 32.0, 31.0, 29.6, 31.7, 32.8, 31.0, 25.7, 23.6, 26.3, 28.2, 30.4, 31.0, 31.9, 31.2, 30.2, 31.8, 34.5, 33.9, 33.3, 34.5, 33.8, 34.2, 33.3, 35.9, 35.5, 34.7, 35.0, 35.6, 34.3, 34.7, 35.4, 35.7, 36.5, 36.7, 36.0, 37.0, 38.2, 37.2, 36.5, 35.2, 37.9, 32.0, 30.0, 31.3, 35.8, 35.8, 30.4, 31.1, 34.4, 35.7, 35.5, 34.4, 33.5, 31.7, 27.3, 26.0, 33.3, 33.5, 33.7, 32.3, 31.5, 28.5, 29.3, 28.0, 28.8, 27.5, 26.3, 29.6, 31.3, 31.2, 30.7, 30.6, 32.0, 33.1, 28.3, 25.6, 22.3, 28.3, 29.5, 26.9, 28.8, 29.3, 27.1, 29.7, 26.4, 28.7, 30.7, 31.8, 32.2, 33.9, 32.0, 34.3, 32.5, 35.1, 35.0, 36.0, 35.5, 37.0, 36.7, 34.7, 33.2, 35.3, 33.0, 30.6, 23.9, 27.5, 33.2, 35.4, 31.8, 25.5, 32.3, 32.7, 26.8, 30.2, 33.2, 34.2, 34.0, 30.8, 32.6, 33.3, 33.6, 34.1, 34.1, 34.0, 35.5, 30.6, 27.7, 27.0, 31.6, 28.2, 30.5, 26.2, 28.7, 28.6, 28.2, 26.7, 30.4, 31.0, 33.5, 30.7, 26.8, 22.3, 23.7, 28.6, 27.5, 26.2, 28.8, 27.5, 30.7, 31.3, 31.7, 29.5, 30.8, 30.5, 31.5, 32.0, 31.0, 29.9, 32.2, 33.4, 30.5, 29.5, 30.8, 31.9, 32.2, 33.0, 32.1, 29.9, 24.9, 26.7, 31.1, 28.1, 30.7, 31.9, 27.8, 29.7, 29.6, 32.6, 30.2, 28.1, 31.7, 31.0, 31.7, 32.7, 31.2, 33.0, 33.4, 33.6, 33.7, 31.4, 32.5, 33.1, 33.0, 32.1, 32.7, 33.1, 33.4, 33.3, 34.4, 28.0, 30.0, 30.3, 31.3, 32.6, 32.7, 34.4, 35.4, 36.2, 36.7, 34.5, 33.8, 35.0, 35.6, 37.7, 37.4, 35.8, 30.5, 35.2, 31.2, 29.9, 30.9, 32.3, 31.9, 31.9, 28.6, 29.6, 32.1, 24.5, 27.5, 27.9, 34.2, 33.9, 34.6, 33.0, 32.9, 32.6, 31.9, 31.4, 33.2, 35.1, 36.0, 35.2, 36.0, 32.5, 34.6, 33.1, 35.0, 35.2, 36.9, 35.2, 32.9, 32.5, 28.9, 29.6, 28.7, 28.6, 26.4, 28.4, 30.4, 32.6, 32.5, 26.8, 21.2, 25.2, 28.1, 32.5, 31.7, 32.8, 31.0, 32.2, 34.3, 29.0, 32.0, 33.0, 32.9, 31.4, 33.6, 33.8, 31.8, 30.7, 27.3, 30.1, 32.4, 29.7, 33.2, 31.1, 29.1, 26.0, 29.4, 27.9, 28.8, 29.7, 27.2, 29.4, 31.1, 30.7, 30.6, 30.9, 32.3, 32.1, 32.0, 33.3, 33.3, 32.6, 32.3, 31.8, 32.8, 33.9, 33.3, 33.8, 32.3, 31.8, 32.8, 33.0, 33.1, 33.5, 34.2, 34.0, 35.0, 29.8, 27.9, 30.6, 28.5, 34.9, 35.0, 34.4, 32.7, 31.2, 28.9, 28.4, 30.6, 32.2, 33.7, 32.7, 32.6, 30.3, 32.1, 30.5, 29.5, 27.3, 27.6, 29.6, 28.7, 29.1, 29.2, 22.7, 25.5, 27.3, 27.9, 26.8, 26.8, 29.3, 30.3, 25.3, 29.1, 24.5, 24.9, 25.5, 28.1, 29.7, 30.1, 29.3, 30.9, 33.5, 33.5, 25.7, 30.3, 31.7, 30.2, 31.8, 30.7, 32.1, 31.3, 25.4, 28.9, 28.5, 28.3, 30.0, 32.1, 30.1, 26.2, 25.9, 29.3, 22.9, 25.3, 28.7, 31.1, 31.0, 31.2, 32.8, 32.6, 33.1, 33.2, 31.7, 32.2, 26.6, 28.7, 27.6, 26.1, 27.7, 29.3, 26.3, 26.7, 27.7, 27.6, 26.3, 29.3, 29.8, 29.6, 23.8, 21.3, 26.7, 25.3, 25.1, 27.8, 24.1, 33.2, 34.0, 36.2, 35.0, 35.5, 35.0, 34.1, 32.4, 32.0, 27.0, 27.8, 30.5, 30.0, 31.3, 30.2, 31.8, 32.7, 33.4, 33.1, 28.8, 25.9, 31.2, 28.2, 32.2, 30.6, 24.9, 27.8, 30.6, 32.2, 33.3, 23.6, 29.8, 29.8, 34.3, 34.3, 34.4, 34.1, 33.6, 34.1, 33.7, 33.8, 32.9, 32.2, 30.6, 32.0, 30.6, 28.7, 33.9, 31.1, 33.3, 34.1, 33.5, 32.4, 27.1, 29.6, 29.2, 31.0, 30.4, 25.0, 21.7, 26.6, 29.4, 35.3, 34.2, 35.1, 30.0, 33.1, 32.8, 33.5, 30.3, 31.4, 30.3, 30.5, 28.0, 30.7, 32.0, 29.6, 26.1, 31.2, 33.4, 33.5, 30.3, 31.3, 31.3, 31.1, 30.0, 29.7, 32.2, 31.3, 31.4, 29.5, 24.9, 26.3, 30.4, 28.0, 28.0, 30.4, 28.4, 28.8, 31.1, 26.9, 28.7, 30.4, 32.5, 33.1, 32.4, 29.0, 27.4, 26.6, 27.5, 29.9, 30.0, 30.9, 32.1, 31.2, 30.8, 26.4, 28.3, 29.2, 22.8, 28.1, 29.0, 27.8, 27.8, 31.2, 32.0, 32.8, 31.8, 32.4, 32.9, 33.4, 33.2, 33.7, 31.5, 30.3, 31.5, 27.6, 29.8, 29.1, 26.8, 26.7, 28.8, 30.2, 26.2, 29.2, 24.3, 25.2, 29.6, 30.8, 33.2, 33.0, 28.2, 30.7, 24.7, 31.6, 34.5, 34.4, 30.8, 31.8, 32.2, 29.5, 26.8, 27.6, 28.2, 29.6, 26.2, 31.0, 33.0, 31.2, 30.0, 27.4, 34.4, 33.7, 34.2, 30.9, 32.0, 32.9, 31.0, 24.4, 29.3, 29.8, 29.2, 29.3, 30.3, 30.5, 24.8, 31.0, 30.6, 25.4, 24.6, 29.6, 25.5, 24.7, 27.5, 29.8, 28.4, 24.4, 30.2, 30.4, 27.4, 30.5, 30.0, 28.8, 29.0, 29.4, 27.5, 27.8, 30.4, 28.5, 26.0, 30.5, 30.4, 30.6, 30.0, 28.1, 24.8, 28.0, 31.6, 27.9, 31.4, 32.8, 32.8, 33.8, 30.3, 34.7, 32.8, 32.9, 29.8, 32.0, 32.1, 32.2, 34.0, 33.7, 27.3, 29.2, 26.4, 21.3, 30.6, 31.8, 31.8, 30.7, 29.4, 31.2, 32.6, 31.8, 33.0, 33.3, 32.2, 31.2, 31.6, 27.0, 32.2, 32.6, 31.1, 31.8, 32.8, 33.6, 31.2, 30.1, 29.2, 30.5, 32.5, 27.4, 26.0, 30.9, 29.4, 29.1, 31.4, 32.4, 32.4, 29.8, 31.6, 32.2, 29.4, 30.5, 27.5, 28.2, 28.7, 29.8, 32.1, 33.7, 34.0, 33.6, 32.2, 29.1, 28.8, 29.3, 30.0, 30.9, 31.3, 30.0, 30.9, 31.2, 25.8, 27.4, 29.0, 30.4, 28.1, 25.9, 30.5, 24.6, 27.4, 29.2, 29.5, 29.7, 29.1, 32.2, 27.6, 25.8, 26.3, 26.1, 24.7, 24.8, 29.6, 30.2, 26.7, 29.2, 29.3, 30.7, 29.7, 30.7, 28.0, 27.4, 30.0, 30.5, 32.2, 32.9, 31.3, 27.8, 30.6, 31.6, 29.3, 28.2, 28.2, 28.0, 28.2, 27.4, 28.2, 30.6, 28.2, 25.9, 30.2, 29.0, 27.4, 30.5, 26.7, 23.4, 31.1, 32.4, 32.2, 33.0, 33.8, 35.0, 33.9, 33.4, 32.0, 31.0, 27.2, 28.8, 30.2, 32.0, 33.8, 31.8, 31.9, 27.4, 27.0, 28.3, 24.3, 25.5, 30.8, 27.4, 25.6, 31.2, 33.2, 33.2, 31.7, 26.1, 28.9, 30.2, 30.9, 32.2, 26.8, 27.3, 28.5, 30.0, 28.5, 27.7, 28.6, 27.2, 23.6, 20.3, 24.9, 27.8, 23.1, 27.2, 29.2, 26.8, 27.3, 28.2, 32.1, 32.4, 31.8, 28.4, 29.9, 29.2, 27.1, 26.3, 29.0, 27.6, 26.3, 27.6, 23.6, 25.9, 28.4, 28.8, 28.2, 30.6, 30.3, 30.4, 32.1, 24.2, 20.0, 28.3, 29.1, 29.3, 29.3, 28.4, 22.9, 28.9, 24.0, 25.0, 22.6, 23.2, 23.0, 26.7, 26.2, 30.4, 26.1, 27.6, 30.8, 31.1, 31.8, 31.7, 31.8, 31.6, 31.9, 32.4, 34.3, 34.5, 35.2, 29.4, 29.7, 30.8, 28.0, 28.9, 26.8, 25.1, 28.7, 29.3, 30.4, 30.0, 27.8, 28.8, 30.1, 26.2, 29.3, 29.8, 25.8, 30.1, 28.2, 24.9, 30.3, 30.5, 30.2, 31.4, 32.6, 32.2, 32.9, 29.4, 27.6, 31.5, 31.6, 30.7, 33.9, 33.7, 32.4, 30.8, 25.4, 24.6, 28.3, 29.9, 30.1, 27.0, 25.7, 25.7, 24.6, 29.4, 29.0, 33.0, 32.6, 30.4, 29.4, 31.6, 30.8, 30.1, 30.1, 31.0, 32.4, 32.2, 30.8, 31.2, 32.2, 33.9, 35.3, 34.1, 32.0, 34.4, 34.6, 32.2, 32.5, 32.8, 33.3, 32.1, 33.2, 28.6, 29.5, 32.8, 30.6, 26.3, 30.3, 27.4, 29.8, 30.1, 31.8, 28.0, 27.9, 30.6, 29.8, 27.0, 25.5, 21.6, 25.4, 29.0, 31.3, 32.0, 29.2, 29.0, 31.2, 28.8, 27.2, 22.6, 22.8, 26.3, 22.1, 25.8, 21.0, 26.5, 28.3, 33.3, 29.5, 32.6, 27.3, 30.1, 23.7, 25.2, 31.6, 31.2, 30.4, 29.5, 28.8, 27.8, 29.9, 27.4, 22.8, 29.3, 29.2, 29.9, 31.6, 31.6, 30.7, 28.4, 27.4, 29.3, 30.3, 31.6, 32.1, 30.2, 30.9, 25.4, 34.4, 32.6, 31.8, 32.4, 34.2, 33.9, 33.3, 30.1, 31.1, 29.9, 30.1, 32.4, 25.8, 27.1, 28.1, 26.8, 29.6, 25.8, 23.3, 21.8, 29.0, 31.6, 31.7, 32.1, 30.1, 30.7, 33.2, 31.6, 28.4, 22.8, 28.4, 28.5, 25.7, 28.2, 25.7, 29.7, 27.0, 30.4, 31.6, 30.7, 31.8, 31.7, 31.9, 32.6, 31.8, 32.3, 27.2, 26.5, 26.1, 28.8, 29.3, 30.7, 32.2, 30.0, 30.6, 32.3, 31.6, 26.7, 27.6, 27.1, 29.2, 29.5, 30.6, 29.9, 27.8, 28.9, 28.2, 27.3, 23.8, 21.8, 27.4, 28.5, 27.6, 27.8, 23.7, 24.8, 29.2, 27.5, 20.5, 26.8, 28.1, 26.8, 29.2, 29.7, 27.8, 27.2, 24.2, 23.8, 24.2, 26.4, 23.0, 27.4, 27.4, 29.7, 30.2, 28.8, 31.6, 28.2, 27.6, 24.2, 27.0, 30.6, 27.3, 31.0, 30.2, 30.0, 33.0, 31.6, 31.4, 26.0, 28.1, 30.3, 27.2, 28.3, 29.4, 29.8, 28.4, 23.2, 26.2, 30.2, 30.1, 30.1, 25.8, 22.7, 31.6, 28.1, 29.4, 32.5, 30.4, 29.2, 31.1, 33.4, 33.5, 32.7, 35.5, 33.7, 27.8, 26.4, 25.2, 27.0, 31.3, 30.8, 30.4, 27.8, 26.1, 27.6, 27.8, 29.7, 23.4, 28.6, 24.9, 23.5, 28.1, 28.7, 29.4, 29.7, 31.6, 32.7, 33.7, 34.3, 33.6, 32.6, 30.8, 27.0, 31.2, 30.9, 32.5, 32.7, 32.5, 32.6, 33.1, 33.6, 32.9, 29.6, 24.7, 25.3, 28.3, 21.7, 22.0, 26.9, 28.6, 30.7, 26.6, 28.4, 29.6, 30.9, 32.1, 29.7, 31.5, 30.9, 31.9, 31.9, 31.3, 31.7, 33.1, 35.2, 32.5, 32.9, 32.7, 31.3, 26.1, 29.2, 31.9, 34.7, 34.6, 31.3, 31.2, 29.5, 27.3, 23.9, 29.5, 30.2, 28.5, 26.6, 29.4, 29.7, 24.2, 32.1, 27.3, 28.4, 30.0, 25.9, 31.9, 31.9, 34.3, 27.4, 24.4, 30.2, 32.7, 31.7, 29.1, 28.3, 30.2, 29.1, 32.8, 33.6, 33.2, 32.4, 33.4, 34.1, 33.5, 32.1, 31.0, 26.5, 28.4, 29.6, 32.3, 25.7, 32.8, 31.3, 32.1, 28.8, 29.8, 29.7, 29.0, 30.4, 30.6, 29.9, 25.2, 27.1, 27.2, 30.1, 31.6, 26.4, 25.4, 24.7, 29.5, 26.4, 27.8, 27.8, 26.9, 29.4, 30.5, 30.5, 23.6, 23.2, 24.7, 27.6, 28.2, 31.5, 27.8, 29.2, 24.7, 30.2, 27.8, 23.6, 25.6, 28.0, 27.7, 28.5, 29.0, 29.8, 31.6, 28.4, 25.9, 29.3, 30.3, 29.6, 25.2, 27.8, 30.3, 29.9, 31.1, 28.6, 30.4, 27.5, 30.5, 25.0, 22.4, 24.6, 34.2, 32.5, 32.9, 33.2, 33.2, 33.1, 36.0, 33.4, 33.8, 36.6, 34.4, 33.1, 33.9, 34.7, 33.2, 32.8, 31.4, 31.2, 30.8, 29.8, 27.9, 27.6, 29.4, 28.8, 28.5, 29.0, 23.7, 24.6, 23.6, 26.6, 28.4, 31.1, 30.1, 31.6, 33.4, 35.3, 34.6, 30.9, 30.7, 30.4, 30.2, 26.6, 27.5, 31.4, 32.5, 31.1, 30.2, 30.5, 30.9, 29.7, 27.0, 24.1, 26.3, 30.0, 30.2, 29.2, 29.8, 29.6, 29.0, 24.2, 25.4, 27.9, 33.0, 33.9, 33.4, 32.9, 33.7, 34.3, 35.5, 33.7, 32.0, 31.1, 31.1, 32.8, 33.3, 27.8, 31.4, 27.7, 30.6, 30.2, 26.0, 25.3, 24.6, 31.6, 29.1, 30.3, 30.0, 30.4, 31.7, 31.8, 31.0, 31.9, 25.1, 30.3, 24.4, 28.3, 25.9, 30.0, 28.2, 28.7, 30.8, 25.4, 29.5, 30.9, 31.5, 31.8, 33.2, 34.2, 31.4, 31.5, 31.6, 31.5, 34.7, 33.2, 29.3, 24.4, 29.9, 30.1, 30.0, 29.1, 29.7, 31.8, 29.1, 29.2, 32.2, 31.4, 31.1, 30.5, 30.4, 26.0, 22.5, 30.0, 30.2, 29.6, 29.4, 26.9, 30.0, 25.4, 24.0, 27.2, 24.0, 30.4, 30.4, 31.2, 30.0, 30.4, 28.3, 27.7, 30.1, 30.3, 23.2, 25.6, 32.8, 32.7, 30.9, 29.7, 25.1, 26.7, 28.4, 27.8, 28.0, 27.4, 24.8, 30.5, 26.4, 30.3, 30.6, 24.0, 29.0, 25.5, 22.3, 27.0, 27.3, 29.0, 26.3, 21.6, 28.1, 29.6, 25.0, 28.1, 29.6, 29.0, 28.5, 28.2, 29.5, 28.7, 29.3, 33.9, 32.5, 32.4, 35.6, 35.9, 33.6, 33.8, 37.0, 29.3, 32.6, 35.5, 36.2, 34.8, 33.5, 32.6, 29.9, 29.1, 32.7, 32.4, 31.6, 31.7, 31.6, 31.5, 26.0, 31.4, 30.1, 25.9, 26.4, 28.2, 30.6, 30.7, 29.1, 30.5, 31.0, 28.4, 32.2, 29.2, 27.6, 28.4, 30.2, 30.6, 30.7, 30.4, 33.5, 33.7, 32.3, 31.8, 31.5, 27.4, 28.1, 29.9, 29.8, 25.6, 25.5, 23.8, 22.9, 28.6, 29.0, 29.0, 25.1, 30.1, 35.4, 33.6, 33.9, 31.2, 32.6, 32.0, 30.3, 30.8, 33.1, 30.8, 32.8, 31.6, 31.2, 33.0, 29.5, 29.9, 31.3, 32.5, 32.9, 32.3, 32.8, 29.8, 26.6, 28.9, 22.4, 20.0, 20.9, 23.0, 27.4, 23.8, 28.1, 33.7, 31.8, 28.4, 23.8, 31.0, 32.6, 32.6, 34.1, 33.0, 31.7, 31.3, 32.4, 33.2, 32.3, 32.7, 32.1, 32.4, 33.8, 29.1, 33.1, 29.6, 29.4, 30.6, 32.0, 30.8, 29.7, 31.2, 30.0, 31.2, 30.7, 30.1, 28.0, 32.0, 28.8, 29.1, 29.3, 27.2, 31.1, 25.5, 29.8, 25.5, 29.9, 28.7, 29.8, 30.4, 25.8, 30.7, 28.2, 29.2, 29.0, 30.3, 30.5, 30.7, 27.9, 26.0, 28.5, 29.0, 26.1, 28.6, 29.5, 28.9, 29.3, 25.0, 23.4, 24.8, 28.4, 32.1, 33.0, 33.3, 33.1, 30.8, 34.4, 32.8, 33.4, 33.3, 33.6, 34.3, 34.2, 35.4, 31.3, 29.8, 28.6, 27.6, 26.7, 30.5, 29.7, 28.2, 29.6, 25.4, 28.4, 27.6, 28.9, 27.8, 31.2, 35.1, 32.7, 29.4, 28.4, 25.5, 28.2, 31.7, 31.6, 32.2, 32.9, 33.1, 33.3, 32.2, 32.6, 32.3, 35.0, 34.5, 26.9, 24.6, 26.2, 28.8, 30.2, 25.4, 23.5, 23.0, 27.1, 29.0, 32.5, 33.6, 27.5, 31.0, 34.0, 32.6, 33.8, 31.0, 32.6, 31.3, 30.2, 30.6, 30.9, 29.0, 26.3, 23.6, 29.6, 29.8, 34.2, 35.3, 32.7, 31.7, 31.8, 31.3, 31.2, 30.4, 31.8, 28.5, 30.7, 31.2, 30.3, 27.8, 29.3, 30.0, 28.5, 29.8, 30.0, 28.1, 28.3, 26.1, 22.0, 30.1, 29.4, 24.1, 23.9, 24.0, 26.0, 26.7, 28.9, 26.7, 24.1, 28.9, 26.2, 29.1, 28.6, 23.8, 27.0, 29.6, 30.5, 30.2, 26.5, 31.0, 32.2, 27.3, 26.1, 28.9, 29.0, 26.7, 29.5, 32.2, 27.5, 25.2, 30.2, 31.6, 27.2, 28.3, 30.0, 30.0, 29.7, 30.2, 26.5, 25.1, 23.0, 22.8, 27.7, 29.6, 30.0, 25.6, 24.8, 30.2, 26.9, 23.3, 29.1, 25.1, 24.0, 26.0, 34.2, 33.2, 32.7, 32.9, 32.7, 32.9, 32.4, 32.0, 33.0, 36.2, 35.7, 34.7, 32.7, 29.2, 31.0, 29.1, 26.2, 25.0, 25.3, 26.8, 25.5, 25.2, 26.0, 29.2, 27.5, 28.5, 28.3, 26.6, 30.1, 31.5, 29.3, 27.0, 29.1, 27.7, 32.5, 34.2, 35.0, 30.1, 30.2, 29.5, 28.2, 27.5, 26.8, 30.1, 31.1, 31.3, 33.0, 32.4, 30.0, 22.7, 28.2, 28.2, 26.0, 29.2, 23.6, 18.6, 25.3, 27.8, 27.3, 29.0, 28.0, 31.2, 32.0, 32.0, 33.2, 34.7, 32.9, 32.4, 31.7, 34.2, 34.2, 33.2, 30.1, 32.7, 33.2, 33.5, 32.4, 31.7, 30.8, 30.7, 29.7, 26.5, 30.5, 31.6, 30.6, 30.7, 29.0, 31.3, 25.7, 29.6, 25.8, 29.5, 29.5, 30.1, 30.2, 32.2, 26.1, 27.7, 29.3, 25.2, 27.7, 29.2, 31.0, 33.0, 28.1, 30.3, 28.6, 29.5, 30.8, 32.2, 31.2, 31.0, 31.0, 29.7, 31.8, 33.2, 31.7, 33.0, 32.2, 30.0, 30.8, 26.3, 25.6, 27.1, 31.2, 28.4, 29.8, 31.4, 30.7, 32.9, 33.4, 35.4, 32.6, 34.5, 32.4, 28.9, 31.5, 31.5, 29.6, 23.5, 27.4, 25.0, 27.6, 27.4, 28.6, 22.2, 25.3, 28.2, 28.4, 28.4, 28.2, 29.4, 30.6, 30.9, 29.0, 28.9, 29.6, 27.5, 31.2, 32.3, 30.7, 28.5, 28.9, 33.6, 32.0, 27.1, 25.9, 30.9, 33.4, 33.0, 34.4, 30.9, 30.9, 31.8, 29.4, 29.6, 28.2, 30.9, 29.4, 27.6, 26.3, 25.7, 28.6, 26.7, 23.3, 28.3, 31.0, 31.8, 32.1, 31.9, 33.8, 31.0, 28.2, 31.6, 33.3, 29.8, 32.7, 26.7, 29.6, 29.1, 30.2, 26.7, 31.8, 31.2, 32.9, 32.2, 32.1, 32.5, 29.1, 25.9, 22.5, 26.7, 31.8, 27.2, 26.0, 29.9, 27.2, 29.2, 30.1, 28.1, 28.0, 34.1, 32.7, 33.0, 27.7, 28.7, 28.9, 29.9, 26.3, 26.6, 26.8, 26.9, 26.2, 24.6, 30.2, 29.2, 27.0, 31.0, 29.6, 30.5, 28.6, 30.5, 30.3, 31.2, 32.0, 29.9, 32.4, 32.8, 35.3, 35.5, 35.4, 36.2, 36.7, 35.8, 35.0, 34.3, 34.6, 29.0, 31.8, 27.9, 32.1, 31.2, 27.1, 28.9, 32.2, 28.6, 30.8, 27.1, 28.7, 24.6, 25.7, 26.1, 28.9, 32.4, 32.9, 29.4, 29.1, 24.7, 28.4, 32.1, 29.3, 32.6, 31.3, 30.1, 27.6, 32.1, 32.8, 30.8, 29.4, 33.2, 32.6, 32.9, 32.0, 32.4, 31.7, 31.6, 31.5, 32.3, 32.3, 33.9, 32.3, 28.7, 31.5, 32.1, 31.6, 29.3, 30.8, 26.7, 28.3, 27.9, 34.7, 35.8, 30.5, 29.6, 29.2, 26.2, 27.1, 30.6, 31.6, 27.7, 28.6, 30.4, 26.7, 24.2, 29.6, 31.8, 25.0, 24.4, 25.3, 28.0, 24.6, 28.2, 29.7, 30.7, 28.6, 29.6, 28.6, 30.7, 30.1, 30.7, 29.0, 31.6, 29.2, 31.5, 30.8, 32.7, 34.4, 34.4, 33.0, 31.0, 32.0, 30.6, 32.9, 31.1, 32.5, 30.8, 31.2, 32.9, 32.2, 29.7, 28.1, 29.3, 29.6, 31.7, 30.3, 24.5, 25.3, 30.0, 28.1, 30.8, 31.0, 31.2, 32.4, 31.1, 34.2, 35.7, 36.0, 34.0, 35.0, 35.5, 33.6, 34.8, 36.4, 35.9, 35.1, 31.8, 34.0, 34.9, 34.7, 34.3, 33.2, 34.9, 36.6, 36.3, 33.0, 32.9, 32.2, 28.2, 29.7, 24.5, 27.1, 24.5, 19.2, 33.0, 33.0, 33.9, 35.3, 34.8, 34.0, 34.4, 31.0, 32.0, 26.3, 32.4, 32.6, 28.4, 27.1, 24.0, 26.8, 27.7, 30.6, 28.7, 25.8, 29.2, 31.5, 30.2, 28.1, 30.6, 29.2, 26.7, 26.5, 24.0, 23.9, 27.6, 39.6, 37.9, 37.9, 34.9, 33.9, 35.3, 35.9, 35.3, 32.5, 36.8, 36.0, 35.3, 34.4, 37.2, 38.0, 35.6, 33.8, 32.1, 34.4, 33.3, 31.0, 37.6, 32.2, 26.3, 29.3, 29.0, 24.9, 26.1, 27.4, 28.2, 30.3, 30.1, 33.1, 36.0, 34.4, 35.9, 36.8, 30.3, 32.7, 34.6, 36.5, 35.7, 28.5, 35.3, 35.7, 28.6, 29.5, 28.8, 30.7, 31.3, 32.8, 30.4, 31.4, 30.5, 27.3, 29.9, 32.1, 29.3, 30.2, 26.4, 27.0, 28.9, 26.9, 26.4, 26.3, 29.4, 29.1, 26.0, 26.1, 26.1, 25.8, 29.5, 27.3, 31.3, 30.3, 28.0, 27.0, 30.8, 32.2, 31.9, 31.4, 31.7, 29.2, 27.6, 29.9, 32.0, 34.5, 34.5, 28.6, 29.7, 29.0, 30.6, 30.0, 28.8, 28.6, 31.4, 33.2, 33.7, 32.2, 32.3, 32.1, 33.6, 32.2, 31.6, 31.7, 30.1, 30.5, 32.4, 32.8, 31.3, 31.0, 31.5, 30.7, 25.5, 27.0, 24.0, 26.4, 27.3, 27.9, 25.5, 28.2, 26.3, 27.7, 23.1, 32.4, 28.5, 30.0, 32.9, 32.7, 30.3, 31.7, 28.4, 26.5, 28.8, 27.5, 32.4, 27.5, 31.5, 29.8, 30.0, 30.5, 29.8, 27.5, 32.0, 32.0, 30.2, 30.2, 27.9, 24.0, 28.4, 25.5, 28.4, 22.5, 20.3, 24.9, 34.2, 33.7, 33.8, 34.4, 34.9, 33.0, 34.6, 35.8, 31.6, 25.1, 24.9, 24.1, 31.1, 31.9, 32.7, 31.6, 32.4, 33.3, 33.6, 31.8, 33.6, 32.2, 27.2, 27.8, 30.0, 30.3, 29.6, 25.6, 25.5, 24.5, 28.9]\n"
     ]
    },
    {
     "data": {
      "image/png": "[encoded data removed]",
      "text/plain": [
       "<Figure size 640x480 with 1 Axes>"
      ]
     },
     "metadata": {},
     "output_type": "display_data"
    }
   ],
   "source": [
    "import csv\n",
    "import matplotlib.pyplot as plt\n",
    "\n",
    "file = open('seoulTemp.csv','r', encoding='utf-8')\n",
    "\n",
    "data = csv.reader(file, delimiter=',')\n",
    "header = next(data)\n",
    "\n",
    "jan = []\n",
    "aug = []\n",
    "\n",
    "for row in data :\n",
    "    if row[-1] != '' : # 최고기온 데이더가 존재할 때만\n",
    "        row[0] = row[0].replace('\\t','')\n",
    "        if row[0].split('-')[1] == '01' : # 1월의 경우\n",
    "            jan.append(float(row[-1]))\n",
    "        if row[0].split('-')[1] == '08' :\n",
    "            aug.append(float(row[-1]))\n",
    "\n",
    "file.close()\n",
    "\n",
    "plt.rcParams['font.family'] ='D2Coding'\n",
    "plt.title('1907-2023년 1월, 8월')\n",
    "plt.hist(jan, color='b', label='1월', bins=100)\n",
    "plt.hist(aug, color='r', label='8월', bins=100)\n",
    "\n",
    "plt.legend()\n",
    "\n",
    "plt.show()\n"
   ]
  }
 ],
 "metadata": {
  "kernelspec": {
   "display_name": "Python 3",
   "language": "python",
   "name": "python3"
  },
  "language_info": {
   "codemirror_mode": {
    "name": "ipython",
    "version": 3
   },
   "file_extension": ".py",
   "mimetype": "text/x-python",
   "name": "python",
   "nbconvert_exporter": "python",
   "pygments_lexer": "ipython3",
   "version": "3.12.4"
  }
 },
 "nbformat": 4,
 "nbformat_minor": 2
}
