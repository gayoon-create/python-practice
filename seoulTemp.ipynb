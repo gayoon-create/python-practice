{
 "cells": [
  {
   "cell_type": "markdown",
   "metadata": {},
   "source": [
    "공공 데이터의 기상자료(서울의 기온 변화)를 csv 파일로 얻어와서 데이터를 분석해보고, 시각화를 해보자"
   ]
  },
  {
   "cell_type": "markdown",
   "metadata": {},
   "source": [
    "csv 파일을 읽어와 출력해보자."
   ]
  },
  {
   "cell_type": "code",
   "execution_count": null,
   "metadata": {},
   "outputs": [],
   "source": [
    "import csv\n",
    "file = open('seoulTemp.csv', 'r', encoding='utf-8')\n",
    "\n",
    "data = csv.reader(file, delimiter=',')\n",
    "\n",
    "print(data)\n",
    "\n",
    "file.close()"
   ]
  },
  {
   "cell_type": "code",
   "execution_count": null,
   "metadata": {},
   "outputs": [],
   "source": [
    "import csv\n",
    "file = open('seoulTemp.csv', 'r', encoding='utf-8')\n",
    "\n",
    "data = csv.reader(file, delimiter=',')\n",
    "\n",
    "for row in data : # data에서 한 row를 읽어 그 row가 있을 동안 반복\n",
    "    print(row)\n",
    "    \n",
    "\n",
    "file.close()"
   ]
  },
  {
   "cell_type": "markdown",
   "metadata": {},
   "source": [
    "제목 헤더까지 함께 출력된 것을 볼 수 있다. 하지만 데이터 분석이나 시각화를 하기 위해서는 헤더가 필요하지 않다.\n",
    "헤더를 제외한 순수 데이터만 출력해보자."
   ]
  },
  {
   "cell_type": "code",
   "execution_count": null,
   "metadata": {},
   "outputs": [],
   "source": [
    "import csv\n",
    "file = open('seoulTemp.csv', 'r', encoding='utf-8')\n",
    "\n",
    "data = csv.reader(file, delimiter=',')\n",
    "header = next(data)\n",
    "for row in data : # data에서 한 row를 읽어 그 row가 있을 동안 반복\n",
    "    print(row)\n",
    "    \n",
    "\n",
    "file.close()"
   ]
  },
  {
   "cell_type": "markdown",
   "metadata": {},
   "source": [
    "문제) 기온 관측상 서울에서 가장 더웠던 날과 그 날의 최고기온을 출력해보자.\n",
    "     + 기온 관측상 서울에서 가장 추웠던 날과 그 날의 최저기온을 출력해보자.\n",
    "\n",
    "위의 문제를 풀기 위해서는 원시 데이터를 선처리 해줘야 한다.\n",
    "1) 6.25 전쟁 시 기온 관측을 하지 못한 날짜에 대해서 선처리 작업\n",
    "2) 날짜 데이터 앞에 tab('\\t')에 대한 처리\n",
    "3) 기온 데이터가 문자열 타입이므로 실수 타입으로 변환\n",
    "\n",
    "위와 같이 원시 데이터를 선처리하는 작업을 데이터 정제화(네가 사용할 데이터 형식으로 가공처리 하는 것)라고 한다.\n"
   ]
  },
  {
   "cell_type": "code",
   "execution_count": null,
   "metadata": {},
   "outputs": [],
   "source": [
    "import csv\n",
    "file = open('seoulTemp.csv', 'r', encoding='utf-8')\n",
    "\n",
    "data = csv.reader(file, delimiter=',')\n",
    "header = next(data)\n",
    "for row in data : # data에서 한 row를 읽어 그 row가 있을 동안 반복\n",
    "    row[0].replace('\\t', '') # tab(\\t)을 빈 문자열('')로 변환\n",
    "    if row[-1] == '' :\n",
    "        row[-1] = -9999 # 최고기온의 값이 누락되어있을 경우 -9999로 대체\n",
    "    row[-1] = float(row[-1]) # 최고기온을 float로 변환\n",
    "\n",
    "    if row[3] == '' :\n",
    "        row[3] = -9999 \n",
    "    row[3] = float(row[3])\n",
    "    \n",
    "    print(row)\n",
    "\n",
    "file.close()"
   ]
  },
  {
   "cell_type": "markdown",
   "metadata": {},
   "source": [
    "데이터 전처리 작업을 완료했으므로, 최저기온과 최고기온을 찾아보자"
   ]
  },
  {
   "cell_type": "code",
   "execution_count": 8,
   "metadata": {},
   "outputs": [
    {
     "name": "stdout",
     "output_type": "stream",
     "text": [
      "최고 더웠던 날은 2018-08-01 이머, 그날의 최고기온은 39.600000 입니다\n",
      "최고 추웠던 날은 1927-12-31 이머, 그날의 최저기온은 -23.100000 입니다\n"
     ]
    }
   ],
   "source": [
    "import csv\n",
    "file = open('seoulTemp.csv','r', encoding='utf-8')\n",
    "\n",
    "data = csv.reader(file, delimiter=',')\n",
    "header = next(data)\n",
    "\n",
    "max_temp = -9999\n",
    "min_temp = 9999\n",
    "\n",
    "max_date = ''\n",
    "min_date = ''\n",
    "\n",
    "for row in data:     # 데이터에서 한 row를 읽어 그 row가 있을 동안 반복\n",
    "    row[0] = row[0].replace('\\t','')\n",
    "    if row[-1] == '' :\n",
    "        row[-1] = -9999   # 최고기온의 값이 누락 되어 있을 경우 -9999로 대체\n",
    "    row[-1] = float(row[-1])  # 최고기온을 float로 변환\n",
    "    if row[3] == '' :\n",
    "        row[3] = 9999\n",
    "    row[3] = float(row[3])  \n",
    "    \n",
    "    if row[-1] > max_temp:   # 최고기온과 최고기온을 찍었던 날짜를 저장\n",
    "        max_temp = row[-1]\n",
    "        max_date = row[0]\n",
    "    \n",
    "    if row[3] < min_temp:    # 최저기온과 최저기온을 찍었던 날짜를 저장\n",
    "        min_temp = row[3]\n",
    "        min_date = row[0]\n",
    "print(\"최고 더웠던 날은 %s 이며, 그날의 최고기온은 %f 입니다\" % (max_date, max_temp))\n",
    "print(\"최고 추웠던 날은 %s 이며, 그날의 최저기온은 %f 입니다\" % (min_date, min_temp))\n",
    "file.close()"
   ]
  },
  {
   "cell_type": "markdown",
   "metadata": {},
   "source": [
    "문제. 서울의 최고기온을 기준으로 내림차순 정렬하여 출력하세요."
   ]
  },
  {
   "cell_type": "code",
   "execution_count": null,
   "metadata": {},
   "outputs": [],
   "source": [
    "import csv\n",
    "file = open('seoulTemp.csv','r', encoding='utf-8')\n",
    "\n",
    "data = csv.reader(file, delimiter=',')\n",
    "header = next(data)\n",
    "\n",
    "maxTempList = []\n",
    "\n",
    "for row in data:     # 데이터에서 한 row를 읽어 그 row가 있을 동안 반복\n",
    "    row[0] = row[0].replace('\\t','')\n",
    "    if row[-1] == '' :\n",
    "        row[-1] = -9999   # 최고기온의 값이 누락 되어 있을 경우 -9999로 대체\n",
    "    row[-1] = float(row[-1])  # 최고기온을 float로 변환\n",
    "    if row[3] == '' :\n",
    "        row[3] = 9999\n",
    "    row[3] = float(row[3])  \n",
    "\n",
    "    maxTempList.append(row[-1])\n",
    "\n",
    "print(maxTempList)\n",
    "\n",
    "maxTempList.sort() # 오름차순 정렬\n",
    "maxTempList.reverse() # 내림차순 정렬\n",
    "\n",
    "print(maxTempList)\n",
    "\n",
    "file.close()"
   ]
  },
  {
   "cell_type": "markdown",
   "metadata": {},
   "source": [
    "문제. seoulTemp.csv 파일을 읽어서, 2024년 7월의 최고기온을 빨간색 선그래프로, 2024년 7월의 최저기온을 파란색 선그래프로 2024년 7월의 평균기온을 초록색 선그래프로 출력하세요.\n",
    "\n",
    "1. csv 파일을 읽는다.\n",
    "2. 원하는 날짜인지 데이터를 확인한다.\n",
    "3. 원하는 날짜일 때 최고기온, 최저기온, 평균기온의 값을 각각 다른 리스트에 저장한다.\n",
    "4. matplotlib.pyplot을 이용하여 차트를 그린다."
   ]
  },
  {
   "cell_type": "code",
   "execution_count": null,
   "metadata": {},
   "outputs": [],
   "source": [
    "import csv\n",
    "import matplotlib.pyplot as plt\n",
    "import numpy as np\n",
    "\n",
    "file = open('seoulTemp.csv','r', encoding='utf-8')\n",
    "\n",
    "data = csv.reader(file, delimiter=',')\n",
    "header = next(data)\n",
    "\n",
    "\n",
    "minTempList = []\n",
    "maxTempList = []\n",
    "avgTempList = []\n",
    "dateList = []\n",
    "\n",
    "for row in data : \n",
    "    row[0] = row[0].replace('\\t','')\n",
    "    if row[0].startswith('2024-07') :\n",
    "        dateList.append(row[0])\n",
    "        maxTempList.append(float(row[-1]))\n",
    "        minTempList.append(float(row[3]))\n",
    "        avgTempList.append(float(row[2]))\n",
    "file.close()\n",
    "\n",
    "\n",
    "\n",
    "plt.rcParams['font.family'] ='D2Coding' # 폰트 설정(한글을 사용하려면 반드시 폰트를 지정해줘야 한다.)\n",
    "plt.title('2024년 7월 기온변화')\n",
    "plt.plot(maxTempList, color='red', label='최고기온')\n",
    "plt.plot(minTempList, color='blue', label='최저기온') \n",
    "plt.plot(avgTempList, color='green', label='평균기온') \n",
    "plt.xticks(np.arange(len(dateList)), dateList, rotation=45) # x축 레이블링\n",
    "\n",
    "plt.legend()\n",
    "plt.show()"
   ]
  },
  {
   "cell_type": "markdown",
   "metadata": {},
   "source": [
    "문제. seoulTemp.csv 파일을 읽어서, 원하는 날짜의 최고기온, 최저기온 그래프를 그리세요.(1907년 ~ 2023년까지)\n",
    "      (만약 해당일의 데이터가 없다면 그래프로 그리지 않는다.)"
   ]
  },
  {
   "cell_type": "markdown",
   "metadata": {},
   "source": [
    "문제. seoulTemp.csv 파일을 읽어서, 1월과 8월의 최고기온을 각각 히스토그램 차트로 출력해보자."
   ]
  },
  {
   "cell_type": "code",
   "execution_count": null,
   "metadata": {},
   "outputs": [],
   "source": [
    "import csv\n",
    "import matplotlib.pyplot as plt\n",
    "\n",
    "file = open('seoulTemp.csv','r', encoding='utf-8')\n",
    "\n",
    "data = csv.reader(file, delimiter=',')\n",
    "header = next(data)\n",
    "\n",
    "jan = []\n",
    "aug = []\n",
    "\n",
    "for row in data :\n",
    "    if row[-1] != '' : # 최고기온 데이더가 존재할 때만\n",
    "        row[0] = row[0].replace('\\t','')\n",
    "        if row[0].split('-')[1] == '01' : # 1월의 경우\n",
    "            jan.append(float(row[-1]))\n",
    "        if row[0].split('-')[1] == '08' :\n",
    "            aug.append(float(row[-1]))\n",
    "\n",
    "file.close()\n",
    "\n",
    "plt.rcParams['font.family'] ='D2Coding'\n",
    "plt.title('1907-2023년 1월, 8월')\n",
    "plt.hist(jan, color='b', label='1월', bins=100)\n",
    "plt.hist(aug, color='r', label='8월', bins=100)\n",
    "\n",
    "plt.legend()\n",
    "\n",
    "plt.show()\n"
   ]
  },
  {
   "cell_type": "markdown",
   "metadata": {},
   "source": [
    "문제. 2023년의 1월과 8월의 기온 분포도를 boxplot 차트로 표현하세요."
   ]
  },
  {
   "cell_type": "code",
   "execution_count": null,
   "metadata": {},
   "outputs": [],
   "source": [
    "import csv\n",
    "import matplotlib.pyplot as plt\n",
    "\n",
    "file = open('seoulTemp.csv','r', encoding='utf-8')\n",
    "\n",
    "data = csv.reader(file, delimiter=',')\n",
    "header = next(data)\n",
    "\n",
    "jan = []\n",
    "aug = []\n",
    "\n",
    "for row in data :\n",
    "        if row[2] != '' : # 평균기온 데이더가 존재할 때만\n",
    "            row[0] = row[0].replace('\\t','')\n",
    "            if row[0].split('-')[0] == '2023' : \n",
    "                if row[0].split('-')[1] == '01' : # 1월의 경우\n",
    "                    jan.append(float(row[2]))\n",
    "                if row[0].split('-')[1] == '08' :\n",
    "                    aug.append(float(row[2]))\n",
    "            \n",
    "file.close()\n",
    "print(jan, aug)\n",
    "plt.rcParams['font.family'] ='D2Coding'\n",
    "plt.title('2023년 1월, 8월 기온 차트')\n",
    "plt.boxplot([jan, aug], labels=['1월', '8월'])\n",
    "\n",
    "\n",
    "\n",
    "plt.show()\n",
    "\n",
    "for i in range(len(jan)):\n",
    "    if jan[i] == -14.7 :\n",
    "        print(i)\n",
    "\n",
    "print(jan.index(min(jan)))"
   ]
  },
  {
   "cell_type": "markdown",
   "metadata": {},
   "source": [
    "2023년 1월 차트에 동그라미가 하나 그려져 있는데 위 데이터는 2023년 1월 평균 기온 분포보다 데이터의 범위를 벗어나는 이상치이다.\n",
    "데이터 분석이나 머신러닝할 때는 이상치와 결측치를 제거하여 분석하기도 한다."
   ]
  }
 ],
 "metadata": {
  "kernelspec": {
   "display_name": "Python 3",
   "language": "python",
   "name": "python3"
  },
  "language_info": {
   "codemirror_mode": {
    "name": "ipython",
    "version": 3
   },
   "file_extension": ".py",
   "mimetype": "text/x-python",
   "name": "python",
   "nbconvert_exporter": "python",
   "pygments_lexer": "ipython3",
   "version": "3.12.4"
  }
 },
 "nbformat": 4,
 "nbformat_minor": 2
}
