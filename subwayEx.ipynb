{
 "cells": [
  {
   "cell_type": "markdown",
   "metadata": {},
   "source": [
    "서울시 지하철 유무임승차 정보(202707 자료)를 여러가지 문제로 분석하고 시각화 해보자."
   ]
  },
  {
   "cell_type": "code",
   "execution_count": null,
   "metadata": {},
   "outputs": [],
   "source": [
    "import csv\n",
    "\n",
    "file = open('subwayFee.csv', 'r', encoding='utf-8')\n",
    "data = csv.reader(file)\n",
    "next(data) # header 없애고 출력하기\n",
    "\n",
    "for row in data : \n",
    "    for i in range(4, 8) : \n",
    "        row[i] = int(row[i]) # 4열부터 7열을 int로 변환\n",
    "    print(row)\n",
    "\n",
    "file.close()"
   ]
  },
  {
   "cell_type": "markdown",
   "metadata": {},
   "source": [
    "문제. 유임승차 비율이 가장 높은 역은 어디인가?\n",
    "\n",
    "풀이. 유임승차 비율 : 유임승차 인원 / (유임승차 인원 + 무임승차 인원)"
   ]
  },
  {
   "cell_type": "code",
   "execution_count": 21,
   "metadata": {},
   "outputs": [
    {
     "name": "stdout",
     "output_type": "stream",
     "text": [
      "['2024-07', '3호선', '0321', '충무로', 305, 0, 3, 0] 99.02597402597402\n",
      "['2024-07', '4호선', '0423', '충무로', 742417, 768974, 119289, 119948] 86.15664739481912\n",
      "유임승차 비율이 가장 높은 역 :  김포공항\n",
      "그 때의 유임승차 비율 :  100.0\n"
     ]
    }
   ],
   "source": [
    "import csv\n",
    "\n",
    "file = open('subwayFee.csv', 'r', encoding='utf-8')\n",
    "data = csv.reader(file)\n",
    "next(data) # header 없애고 출력하기\n",
    "\n",
    "rate = 0\n",
    "max_rate = 0\n",
    "max_rate_station = ''\n",
    "\n",
    "for row in data : \n",
    "    for i in range(4, 8) : \n",
    "        row[i] = int(row[i]) # 4열부터 7열을 int로 변환\n",
    "    \n",
    "    rate = 100 * row[4] / (row[6] + row[4]) \n",
    "    if rate > max_rate : \n",
    "        max_rate = rate\n",
    "        max_rate_station = row[3]\n",
    "    \n",
    "    if row[3] == '충무로' :\n",
    "        print(row, rate)\n",
    "\n",
    "print('유임승차 비율이 가장 높은 역 : ', max_rate_station)\n",
    "print('그 때의 유임승차 비율 : ', max_rate)\n",
    "file.close()"
   ]
  },
  {
   "cell_type": "markdown",
   "metadata": {},
   "source": [
    "위 코드에서는 환승역에 대해 유임승차 인원과 무임승차 인원을 합하지 않은 값이다.\n",
    "다시 환승역에 대해서 합한 인원으로 유임승차 비율을 구해보자.\n",
    "\n",
    "힌트.\n",
    "    {'서울역' : [1, 2, 3, 4], '시청' : [5, 6, 7, 8], .....}"
   ]
  },
  {
   "cell_type": "code",
   "execution_count": 33,
   "metadata": {},
   "outputs": [
    {
     "ename": "TypeError",
     "evalue": "list indices must be integers or slices, not str",
     "output_type": "error",
     "traceback": [
      "\u001b[1;31m---------------------------------------------------------------------------\u001b[0m",
      "\u001b[1;31mTypeError\u001b[0m                                 Traceback (most recent call last)",
      "Cell \u001b[1;32mIn[33], line 14\u001b[0m\n\u001b[0;32m     11\u001b[0m         row[i] \u001b[38;5;241m=\u001b[39m \u001b[38;5;28mint\u001b[39m(row[i]) \u001b[38;5;66;03m# 4열부터 7열을 int로 변환\u001b[39;00m\n\u001b[0;32m     13\u001b[0m     \u001b[38;5;28;01mif\u001b[39;00m row[\u001b[38;5;241m3\u001b[39m] \u001b[38;5;129;01mnot\u001b[39;00m \u001b[38;5;129;01min\u001b[39;00m stationList : \n\u001b[1;32m---> 14\u001b[0m         \u001b[43mstationList\u001b[49m\u001b[43m[\u001b[49m\u001b[43mrow\u001b[49m\u001b[43m[\u001b[49m\u001b[38;5;241;43m3\u001b[39;49m\u001b[43m]\u001b[49m\u001b[43m]\u001b[49m \u001b[38;5;241m=\u001b[39m row[\u001b[38;5;241m4\u001b[39m:\u001b[38;5;241m8\u001b[39m]\n\u001b[0;32m     17\u001b[0m \u001b[38;5;28mprint\u001b[39m(stationList)\n",
      "\u001b[1;31mTypeError\u001b[0m: list indices must be integers or slices, not str"
     ]
    }
   ],
   "source": [
    "import csv\n",
    "\n",
    "file = open('subwayFee.csv', 'r', encoding='utf-8')\n",
    "data = csv.reader(file)\n",
    "next(data) # header 없애고 출력하기\n",
    "\n",
    "stationList = {}\n",
    "\n",
    "for row in data : \n",
    "    for i in range(4, 8) : \n",
    "        row[i] = int(row[i]) # 4열부터 7열을 int로 변환\n",
    "\n",
    "    if row[3] not in stationList :  # stationList에 row[3](station name)이 없으면 추가\n",
    "        stationList[row[3]] = row[4:8] # stationList에 저장하기\n",
    "    else : # stationList에 row[3](station name)이 있으면\n",
    "        for j in range(4, 8) :\n",
    "            \n",
    "\n",
    "\n",
    "print(stationList)\n"
   ]
  }
 ],
 "metadata": {
  "kernelspec": {
   "display_name": "Python 3",
   "language": "python",
   "name": "python3"
  },
  "language_info": {
   "codemirror_mode": {
    "name": "ipython",
    "version": 3
   },
   "file_extension": ".py",
   "mimetype": "text/x-python",
   "name": "python",
   "nbconvert_exporter": "python",
   "pygments_lexer": "ipython3",
   "version": "3.12.4"
  }
 },
 "nbformat": 4,
 "nbformat_minor": 2
}
