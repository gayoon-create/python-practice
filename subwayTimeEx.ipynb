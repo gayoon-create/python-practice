{
 "cells": [
  {
   "cell_type": "markdown",
   "metadata": {},
   "source": [
    "subwayTime.csv 파일을 가지고 다양한 데이터 분석을 해봅시다."
   ]
  },
  {
   "cell_type": "code",
   "execution_count": null,
   "metadata": {},
   "outputs": [],
   "source": [
    "import csv\n",
    "file = open('subwayTime.csv', 'r', encoding='utf-8')\n",
    "\n",
    "data = csv.reader(file)\n",
    "\n",
    "for row in data : \n",
    "    print(row)\n",
    "\n",
    "file.close()"
   ]
  },
  {
   "cell_type": "markdown",
   "metadata": {},
   "source": [
    "헤더 건너뛰기, 데이터를 int 타입으로 변환해줬음"
   ]
  },
  {
   "cell_type": "code",
   "execution_count": null,
   "metadata": {},
   "outputs": [],
   "source": [
    "import csv\n",
    "file = open('subwayTime.csv', 'r', encoding='utf-8')\n",
    "\n",
    "data = csv.reader(file)\n",
    "next(data) # 헤더 건너뛰기\n",
    "next(data)\n",
    "\n",
    "for row in data : \n",
    "    row[4:] = map(int, row[4:]) # 4번째 컬럼부터 마지막 컬럼까지 int로 변환하는 것을 mapping(반복문 처리를 하지 않아도 내부에서 알아서 반복해준다.)\n",
    "    print(row)\n",
    "file.close()"
   ]
  },
  {
   "cell_type": "markdown",
   "metadata": {},
   "source": [
    "문제. 출근 시간(06-11시)에 가장 많이 타고 내리는 역은? \n",
    "\n",
    "답. 1341427 강남_2호선"
   ]
  },
  {
   "cell_type": "code",
   "execution_count": null,
   "metadata": {},
   "outputs": [],
   "source": [
    "import csv\n",
    "file = open('subwayTime.csv', 'r', encoding='utf-8')\n",
    "\n",
    "data = csv.reader(file)\n",
    "next(data) # 헤더 건너뛰기\n",
    "next(data)\n",
    "\n",
    "maxCount = -99999\n",
    "maxStation = ''\n",
    "\n",
    "for row in data : \n",
    "    row[4:] = map(int, row[4:]) # 4번째 컬럼부터 마지막 컬럼까지 int로 변환하는 것을 mapping(반복문 처리를 하지 않아도 내부에서 알아서 반복해준다.)\n",
    "    sumCount = sum(row[8:18])\n",
    "    if sumCount > maxCount :\n",
    "        maxCount = sumCount\n",
    "        maxStation = row[3] + \"_\" + row[1]\n",
    "\n",
    "print(maxCount, maxStation)\n",
    "\n",
    "\n",
    "\n",
    "\n",
    "file.close()"
   ]
  },
  {
   "cell_type": "markdown",
   "metadata": {},
   "source": [
    "문제. 밤 11시 ~ 새벽 1시까지 가장 많이 타는 역은?"
   ]
  },
  {
   "cell_type": "code",
   "execution_count": null,
   "metadata": {},
   "outputs": [],
   "source": [
    "import csv\n",
    "file = open('subwayTime.csv', 'r', encoding='utf-8')\n",
    "\n",
    "data = csv.reader(file)\n",
    "next(data) # 헤더 건너뛰기\n",
    "next(data)\n",
    "\n",
    "maxCount = -999999\n",
    "maxStation = ''\n",
    "\n",
    "for row in data : \n",
    "    row[4:] = map(int, row[4:]) # 4번째 컬럼부터 마지막 컬럼까지 int로 변환하는 것을 mapping(반복문 처리를 하지 않아도 내부에서 알아서 반복해준다.)\n",
    "    sumCount = sum(row[42:46:2]) # 42부터 46까지 2씩 건너뛰어서 더하기\n",
    "    if sumCount > maxCount :\n",
    "        maxCount = sumCount\n",
    "        maxStation = row[3] + \"_\" + row[1]\n",
    "\n",
    "print(maxCount, maxStation)\n",
    "\n",
    "\n",
    "file.close()"
   ]
  },
  {
   "cell_type": "markdown",
   "metadata": {},
   "source": [
    "문제. 시간대별 사람들이 가장 많이 타고 내리는 역 & 시간대별 가장 많이 타고 내리는 인원수를 차트로 나타내보자"
   ]
  },
  {
   "cell_type": "code",
   "execution_count": null,
   "metadata": {},
   "outputs": [],
   "source": [
    "import csv\n",
    "import matplotlib.pyplot as plt\n",
    "\n",
    "\n",
    "file = open('subwayTime.csv','r',encoding='utf-8')\n",
    "data = csv.reader(file)\n",
    "next(data) # 헤더 건너뛰기\n",
    "next(data)\n",
    "\n",
    "\n",
    "maxInCount = [0] * 24\n",
    "maxStation = [''] * 24\n",
    "\n",
    "for row in data :\n",
    "    row[4:] = map(int, row[4:]) # int로 변환 4번째 컬럼부터 마지막 컬럼까지 int 로 변환하는것을 \n",
    "    #변환하는 것을 mapping (반복문 처리를 하지 않아도 내부에서 반복해줌 (맵함수))\n",
    "    for i in range(24) :\n",
    "        sumCount = row[i * 2 + 4 ] #+ row[(i * 2 + 4)+ 1]\n",
    "        if sumCount > maxInCount[i] :\n",
    "            maxInCount[i] = sumCount\n",
    "            maxStation[i] = row[3] + '(' + str(i + 4) + ')'\n",
    "print(maxStation)\n",
    "print(maxInCount)\n",
    "\n",
    "plt.title('시간대별 승차인원이 많은 역')\n",
    "plt.rc('font', family='D2Coding')\n",
    "plt.bar(range(24), maxInCount)\n",
    "plt.xticks(range(24), maxStation, rotation=90)\n",
    "plt.show()\n",
    "\n",
    "\n",
    "file.close()"
   ]
  },
  {
   "cell_type": "markdown",
   "metadata": {},
   "source": [
    "문제. 시간대별 하차 인원이 많은 역"
   ]
  },
  {
   "cell_type": "code",
   "execution_count": null,
   "metadata": {},
   "outputs": [],
   "source": [
    "import csv\n",
    "import matplotlib.pyplot as plt\n",
    "file = open('subwayTime.csv', 'r', encoding='utf-8')\n",
    "data = csv.reader(file)\n",
    "next(data)  # 헤더 건너뛰기\n",
    "next(data)\n",
    "maxOutCount = [0] * 24\n",
    "maxOUtStation = [''] * 24 \n",
    "for row in data :\n",
    "    row[4:] = map(int, row[4:])  # 4번째 컬럼부터 마지막 컬럼 까지 int로 변환하는것을 mapping (반복문 처리를 하지 않아도 내부에서 반복해줌)\n",
    "    for i in range(24) :\n",
    "        sumOutCount = row[i * 2 + 5] \n",
    "        \n",
    "        \n",
    "        if sumOutCount > maxOutCount[i] :\n",
    "            maxOutCount[i] = sumOutCount\n",
    "            maxOUtStation[i] = row[3] + '(' + str(i + 4) + ')'\n",
    "        \n",
    "        \n",
    "print(maxOUtStation)\n",
    "print(maxOutCount)\n",
    "\n",
    "\n",
    "plt.rc('font', family='D2Coding')  # 한글폰트 설정\n",
    "plt.title('시간대별 하차인원이 많은 역')\n",
    "plt.bar(range(24), maxOutCount)\n",
    "plt.xticks(range(24), maxOUtStation, rotation=90)\n",
    "plt.show()\n",
    "file.close()"
   ]
  },
  {
   "cell_type": "markdown",
   "metadata": {},
   "source": [
    "문제. 지하철 시간대별 인원 추이를 나타내는 그래프를 그리세요.\n",
    "시간대별 승차 인원은 파란색, 하차 인원은 빨간색으로 꺾은선 그래프로 나타내세요."
   ]
  },
  {
   "cell_type": "code",
   "execution_count": 6,
   "metadata": {},
   "outputs": [
    {
     "data": {
      "image/png": "[encoded data removed]",
      "text/plain": [
       "<Figure size 640x480 with 1 Axes>"
      ]
     },
     "metadata": {},
     "output_type": "display_data"
    }
   ],
   "source": [
    "import csv\n",
    "import matplotlib.pyplot as plt\n",
    "\n",
    "file = open('subwayTime.csv', 'r', encoding='utf-8')\n",
    "data = csv.reader(file)\n",
    "\n",
    "# 헤더 건너뛰기\n",
    "next(data)\n",
    "next(data)\n",
    "\n",
    "s_in = [0] * 24\n",
    "s_out = [0] * 24\n",
    "\n",
    "for row in data:\n",
    "    row[4:] = map(int, row[4:])\n",
    "\n",
    "    for i in range(24):\n",
    "        s_in[i] += row[i * 2 + 4]\n",
    "        s_out[i] += row[i * 2 + 5]\n",
    "\n",
    "plt.rc('font', family='D2Coding')  # 한글폰트 설정\n",
    "plt.title('시간대별 승하차 인원 추이')\n",
    "plt.plot(s_in, label='승차', color = 'blue')\n",
    "plt.plot(s_out, label='하차', color = 'red')\n",
    "plt.xticks(range(24), range(4, 28))\n",
    "plt.show()\n",
    "file.close()\n"
   ]
  }
 ],
 "metadata": {
  "kernelspec": {
   "display_name": "Python 3",
   "language": "python",
   "name": "python3"
  },
  "language_info": {
   "codemirror_mode": {
    "name": "ipython",
    "version": 3
   },
   "file_extension": ".py",
   "mimetype": "text/x-python",
   "name": "python",
   "nbconvert_exporter": "python",
   "pygments_lexer": "ipython3",
   "version": "3.12.4"
  }
 },
 "nbformat": 4,
 "nbformat_minor": 2
}
